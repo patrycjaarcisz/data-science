{
  "nbformat": 4,
  "nbformat_minor": 0,
  "metadata": {
    "colab": {
      "name": "Untitled2.ipynb",
      "provenance": [],
      "authorship_tag": "ABX9TyPcfb16/MyE1Asm9azqTQQM",
      "include_colab_link": true
    },
    "kernelspec": {
      "name": "python3",
      "display_name": "Python 3"
    }
  },
  "cells": [
    {
      "cell_type": "markdown",
      "metadata": {
        "id": "view-in-github",
        "colab_type": "text"
      },
      "source": [
        "<a href=\"https://colab.research.google.com/github/patrycjaarcisz/learning-data-science/blob/main/SQLbasics.ipynb\" target=\"_parent\"><img src=\"https://colab.research.google.com/assets/colab-badge.svg\" alt=\"Open In Colab\"/></a>"
      ]
    },
    {
      "cell_type": "markdown",
      "metadata": {
        "id": "ndkNv5gXMTSZ"
      },
      "source": [
        "# dataquest's SQL basics tutorial, analysing a dataset from the bike-sharing service Hubway\n",
        "\n",
        "###the goal is to answer the following questions: \n",
        "What was the duration of the longest trip?\n",
        "How many trips were taken by 'registered' users?\n",
        "What was the average trip duration?\n",
        "Do registered or casual users take longer trips?\n",
        "Which bike was used for the most trips?\n",
        "What is the average duration of trips by users over the age of 30?\n",
        "\n",
        "source: https://www.dataquest.io/blog/sql-basics/"
      ]
    },
    {
      "cell_type": "code",
      "metadata": {
        "id": "4DpyggrMFqIT"
      },
      "source": [
        "import sqlite3\n",
        "import pandas as pd\n",
        "db = sqlite3.connect('hubway.db')\n",
        "def run_query(query):\n",
        "  return pd.read_sql_query(query,db)"
      ],
      "execution_count": 6,
      "outputs": []
    },
    {
      "cell_type": "code",
      "metadata": {
        "colab": {
          "base_uri": "https://localhost:8080/",
          "height": 204
        },
        "id": "ssRivOsZFsVx",
        "outputId": "9a9cc1fd-8e09-4515-988f-f137fc751407"
      },
      "source": [
        "query = 'SELECT * FROM trips LIMIT 5;' # returns every column in trips table, limited to 5 rows\n",
        "run_query(query)"
      ],
      "execution_count": 7,
      "outputs": [
        {
          "output_type": "execute_result",
          "data": {
            "text/html": [
              "<div>\n",
              "<style scoped>\n",
              "    .dataframe tbody tr th:only-of-type {\n",
              "        vertical-align: middle;\n",
              "    }\n",
              "\n",
              "    .dataframe tbody tr th {\n",
              "        vertical-align: top;\n",
              "    }\n",
              "\n",
              "    .dataframe thead th {\n",
              "        text-align: right;\n",
              "    }\n",
              "</style>\n",
              "<table border=\"1\" class=\"dataframe\">\n",
              "  <thead>\n",
              "    <tr style=\"text-align: right;\">\n",
              "      <th></th>\n",
              "      <th>id</th>\n",
              "      <th>duration</th>\n",
              "      <th>start_date</th>\n",
              "      <th>start_station</th>\n",
              "      <th>end_date</th>\n",
              "      <th>end_station</th>\n",
              "      <th>bike_number</th>\n",
              "      <th>sub_type</th>\n",
              "      <th>zip_code</th>\n",
              "      <th>birth_date</th>\n",
              "      <th>gender</th>\n",
              "    </tr>\n",
              "  </thead>\n",
              "  <tbody>\n",
              "    <tr>\n",
              "      <th>0</th>\n",
              "      <td>1</td>\n",
              "      <td>9</td>\n",
              "      <td>2011-07-28 10:12:00</td>\n",
              "      <td>23</td>\n",
              "      <td>2011-07-28 10:12:00</td>\n",
              "      <td>23</td>\n",
              "      <td>B00468</td>\n",
              "      <td>Registered</td>\n",
              "      <td>'97217</td>\n",
              "      <td>1976.0</td>\n",
              "      <td>Male</td>\n",
              "    </tr>\n",
              "    <tr>\n",
              "      <th>1</th>\n",
              "      <td>2</td>\n",
              "      <td>220</td>\n",
              "      <td>2011-07-28 10:21:00</td>\n",
              "      <td>23</td>\n",
              "      <td>2011-07-28 10:25:00</td>\n",
              "      <td>23</td>\n",
              "      <td>B00554</td>\n",
              "      <td>Registered</td>\n",
              "      <td>'02215</td>\n",
              "      <td>1966.0</td>\n",
              "      <td>Male</td>\n",
              "    </tr>\n",
              "    <tr>\n",
              "      <th>2</th>\n",
              "      <td>3</td>\n",
              "      <td>56</td>\n",
              "      <td>2011-07-28 10:33:00</td>\n",
              "      <td>23</td>\n",
              "      <td>2011-07-28 10:34:00</td>\n",
              "      <td>23</td>\n",
              "      <td>B00456</td>\n",
              "      <td>Registered</td>\n",
              "      <td>'02108</td>\n",
              "      <td>1943.0</td>\n",
              "      <td>Male</td>\n",
              "    </tr>\n",
              "    <tr>\n",
              "      <th>3</th>\n",
              "      <td>4</td>\n",
              "      <td>64</td>\n",
              "      <td>2011-07-28 10:35:00</td>\n",
              "      <td>23</td>\n",
              "      <td>2011-07-28 10:36:00</td>\n",
              "      <td>23</td>\n",
              "      <td>B00554</td>\n",
              "      <td>Registered</td>\n",
              "      <td>'02116</td>\n",
              "      <td>1981.0</td>\n",
              "      <td>Female</td>\n",
              "    </tr>\n",
              "    <tr>\n",
              "      <th>4</th>\n",
              "      <td>5</td>\n",
              "      <td>12</td>\n",
              "      <td>2011-07-28 10:37:00</td>\n",
              "      <td>23</td>\n",
              "      <td>2011-07-28 10:37:00</td>\n",
              "      <td>23</td>\n",
              "      <td>B00554</td>\n",
              "      <td>Registered</td>\n",
              "      <td>'97214</td>\n",
              "      <td>1983.0</td>\n",
              "      <td>Female</td>\n",
              "    </tr>\n",
              "  </tbody>\n",
              "</table>\n",
              "</div>"
            ],
            "text/plain": [
              "   id  duration           start_date  ...  zip_code birth_date  gender\n",
              "0   1         9  2011-07-28 10:12:00  ...    '97217     1976.0    Male\n",
              "1   2       220  2011-07-28 10:21:00  ...    '02215     1966.0    Male\n",
              "2   3        56  2011-07-28 10:33:00  ...    '02108     1943.0    Male\n",
              "3   4        64  2011-07-28 10:35:00  ...    '02116     1981.0  Female\n",
              "4   5        12  2011-07-28 10:37:00  ...    '97214     1983.0  Female\n",
              "\n",
              "[5 rows x 11 columns]"
            ]
          },
          "metadata": {
            "tags": []
          },
          "execution_count": 7
        }
      ]
    },
    {
      "cell_type": "code",
      "metadata": {
        "colab": {
          "base_uri": "https://localhost:8080/",
          "height": 204
        },
        "id": "Z2V0lAHTKbNZ",
        "outputId": "541145aa-3111-45f6-a560-f81e4b77e93d"
      },
      "source": [
        "query = 'SELECT duration, start_date FROM trips LIMIT 5;' # returns only duration and start_date columns\n",
        "run_query(query)"
      ],
      "execution_count": 8,
      "outputs": [
        {
          "output_type": "execute_result",
          "data": {
            "text/html": [
              "<div>\n",
              "<style scoped>\n",
              "    .dataframe tbody tr th:only-of-type {\n",
              "        vertical-align: middle;\n",
              "    }\n",
              "\n",
              "    .dataframe tbody tr th {\n",
              "        vertical-align: top;\n",
              "    }\n",
              "\n",
              "    .dataframe thead th {\n",
              "        text-align: right;\n",
              "    }\n",
              "</style>\n",
              "<table border=\"1\" class=\"dataframe\">\n",
              "  <thead>\n",
              "    <tr style=\"text-align: right;\">\n",
              "      <th></th>\n",
              "      <th>duration</th>\n",
              "      <th>start_date</th>\n",
              "    </tr>\n",
              "  </thead>\n",
              "  <tbody>\n",
              "    <tr>\n",
              "      <th>0</th>\n",
              "      <td>9</td>\n",
              "      <td>2011-07-28 10:12:00</td>\n",
              "    </tr>\n",
              "    <tr>\n",
              "      <th>1</th>\n",
              "      <td>220</td>\n",
              "      <td>2011-07-28 10:21:00</td>\n",
              "    </tr>\n",
              "    <tr>\n",
              "      <th>2</th>\n",
              "      <td>56</td>\n",
              "      <td>2011-07-28 10:33:00</td>\n",
              "    </tr>\n",
              "    <tr>\n",
              "      <th>3</th>\n",
              "      <td>64</td>\n",
              "      <td>2011-07-28 10:35:00</td>\n",
              "    </tr>\n",
              "    <tr>\n",
              "      <th>4</th>\n",
              "      <td>12</td>\n",
              "      <td>2011-07-28 10:37:00</td>\n",
              "    </tr>\n",
              "  </tbody>\n",
              "</table>\n",
              "</div>"
            ],
            "text/plain": [
              "   duration           start_date\n",
              "0         9  2011-07-28 10:12:00\n",
              "1       220  2011-07-28 10:21:00\n",
              "2        56  2011-07-28 10:33:00\n",
              "3        64  2011-07-28 10:35:00\n",
              "4        12  2011-07-28 10:37:00"
            ]
          },
          "metadata": {
            "tags": []
          },
          "execution_count": 8
        }
      ]
    },
    {
      "cell_type": "markdown",
      "metadata": {
        "id": "WgBdZmXYNzm_"
      },
      "source": [
        "### What was the duration of the longest trip?"
      ]
    },
    {
      "cell_type": "code",
      "metadata": {
        "colab": {
          "base_uri": "https://localhost:8080/",
          "height": 80
        },
        "id": "5M453niJN7er",
        "outputId": "94d4770e-c0c4-42fc-c3e5-b8b66bddcdaf"
      },
      "source": [
        "query = '''\n",
        "SELECT duration FROM trips\n",
        "ORDER BY duration DESC\n",
        "LIMIT 1;\n",
        "'''\n",
        "\n",
        "# ASC ascending order, DESC descending order, by default ORDER BY sorts in ascending order\n",
        "\n",
        "run_query(query)"
      ],
      "execution_count": 9,
      "outputs": [
        {
          "output_type": "execute_result",
          "data": {
            "text/html": [
              "<div>\n",
              "<style scoped>\n",
              "    .dataframe tbody tr th:only-of-type {\n",
              "        vertical-align: middle;\n",
              "    }\n",
              "\n",
              "    .dataframe tbody tr th {\n",
              "        vertical-align: top;\n",
              "    }\n",
              "\n",
              "    .dataframe thead th {\n",
              "        text-align: right;\n",
              "    }\n",
              "</style>\n",
              "<table border=\"1\" class=\"dataframe\">\n",
              "  <thead>\n",
              "    <tr style=\"text-align: right;\">\n",
              "      <th></th>\n",
              "      <th>duration</th>\n",
              "    </tr>\n",
              "  </thead>\n",
              "  <tbody>\n",
              "    <tr>\n",
              "      <th>0</th>\n",
              "      <td>9999</td>\n",
              "    </tr>\n",
              "  </tbody>\n",
              "</table>\n",
              "</div>"
            ],
            "text/plain": [
              "   duration\n",
              "0      9999"
            ]
          },
          "metadata": {
            "tags": []
          },
          "execution_count": 9
        }
      ]
    },
    {
      "cell_type": "markdown",
      "metadata": {
        "id": "xxaTllwDOhzj"
      },
      "source": [
        "The longest trip lasted 9999 seconds, but we don't know whether this is really the longest trip or if the database was only set up to allow a four digit number."
      ]
    },
    {
      "cell_type": "code",
      "metadata": {
        "colab": {
          "base_uri": "https://localhost:8080/",
          "height": 359
        },
        "id": "VeSFF8YeOaDI",
        "outputId": "6aa89c11-77ad-401d-8cb7-10714b400ea3"
      },
      "source": [
        "query = '''\n",
        "SELECT duration FROM trips\n",
        "ORDER BY duration DESC\n",
        "LIMIT 10;\n",
        "'''\n",
        "\n",
        "run_query(query)"
      ],
      "execution_count": 11,
      "outputs": [
        {
          "output_type": "execute_result",
          "data": {
            "text/html": [
              "<div>\n",
              "<style scoped>\n",
              "    .dataframe tbody tr th:only-of-type {\n",
              "        vertical-align: middle;\n",
              "    }\n",
              "\n",
              "    .dataframe tbody tr th {\n",
              "        vertical-align: top;\n",
              "    }\n",
              "\n",
              "    .dataframe thead th {\n",
              "        text-align: right;\n",
              "    }\n",
              "</style>\n",
              "<table border=\"1\" class=\"dataframe\">\n",
              "  <thead>\n",
              "    <tr style=\"text-align: right;\">\n",
              "      <th></th>\n",
              "      <th>duration</th>\n",
              "    </tr>\n",
              "  </thead>\n",
              "  <tbody>\n",
              "    <tr>\n",
              "      <th>0</th>\n",
              "      <td>9999</td>\n",
              "    </tr>\n",
              "    <tr>\n",
              "      <th>1</th>\n",
              "      <td>9998</td>\n",
              "    </tr>\n",
              "    <tr>\n",
              "      <th>2</th>\n",
              "      <td>9998</td>\n",
              "    </tr>\n",
              "    <tr>\n",
              "      <th>3</th>\n",
              "      <td>9997</td>\n",
              "    </tr>\n",
              "    <tr>\n",
              "      <th>4</th>\n",
              "      <td>9996</td>\n",
              "    </tr>\n",
              "    <tr>\n",
              "      <th>5</th>\n",
              "      <td>9996</td>\n",
              "    </tr>\n",
              "    <tr>\n",
              "      <th>6</th>\n",
              "      <td>9995</td>\n",
              "    </tr>\n",
              "    <tr>\n",
              "      <th>7</th>\n",
              "      <td>9995</td>\n",
              "    </tr>\n",
              "    <tr>\n",
              "      <th>8</th>\n",
              "      <td>9994</td>\n",
              "    </tr>\n",
              "    <tr>\n",
              "      <th>9</th>\n",
              "      <td>9994</td>\n",
              "    </tr>\n",
              "  </tbody>\n",
              "</table>\n",
              "</div>"
            ],
            "text/plain": [
              "   duration\n",
              "0      9999\n",
              "1      9998\n",
              "2      9998\n",
              "3      9997\n",
              "4      9996\n",
              "5      9996\n",
              "6      9995\n",
              "7      9995\n",
              "8      9994\n",
              "9      9994"
            ]
          },
          "metadata": {
            "tags": []
          },
          "execution_count": 11
        }
      ]
    },
    {
      "cell_type": "markdown",
      "metadata": {
        "id": "tUzvnhYaPDrm"
      },
      "source": [
        "What we see here is that there aren't a whole bunch of trips at 9999, so it doesn't look like we're cutting off the top end of our durations, but it's still difficult to tell whether that's the real length of the trip or just the maximum allowed value."
      ]
    },
    {
      "cell_type": "markdown",
      "metadata": {
        "id": "UCaXTAeSPk_A"
      },
      "source": [
        "### How many trips were taken by 'registered' users?"
      ]
    },
    {
      "cell_type": "code",
      "metadata": {
        "colab": {
          "base_uri": "https://localhost:8080/",
          "height": 979
        },
        "id": "nFxY4EA4O9XQ",
        "outputId": "32c17ef0-a0b3-4f52-9951-57886e35e1b8"
      },
      "source": [
        "# WHERE allows us to use a logical operator to specify which rows should be returned, for example:\n",
        "\n",
        "query = '''\n",
        "SELECT * FROM trips\n",
        "WHERE duration > 9990;\n",
        "'''\n",
        "\n",
        "# query returns every column in trips table for each row with a duration longer than 9990 seconds\n",
        "\n",
        "run_query(query)"
      ],
      "execution_count": 13,
      "outputs": [
        {
          "output_type": "execute_result",
          "data": {
            "text/html": [
              "<div>\n",
              "<style scoped>\n",
              "    .dataframe tbody tr th:only-of-type {\n",
              "        vertical-align: middle;\n",
              "    }\n",
              "\n",
              "    .dataframe tbody tr th {\n",
              "        vertical-align: top;\n",
              "    }\n",
              "\n",
              "    .dataframe thead th {\n",
              "        text-align: right;\n",
              "    }\n",
              "</style>\n",
              "<table border=\"1\" class=\"dataframe\">\n",
              "  <thead>\n",
              "    <tr style=\"text-align: right;\">\n",
              "      <th></th>\n",
              "      <th>id</th>\n",
              "      <th>duration</th>\n",
              "      <th>start_date</th>\n",
              "      <th>start_station</th>\n",
              "      <th>end_date</th>\n",
              "      <th>end_station</th>\n",
              "      <th>bike_number</th>\n",
              "      <th>sub_type</th>\n",
              "      <th>zip_code</th>\n",
              "      <th>birth_date</th>\n",
              "      <th>gender</th>\n",
              "    </tr>\n",
              "  </thead>\n",
              "  <tbody>\n",
              "    <tr>\n",
              "      <th>0</th>\n",
              "      <td>4768</td>\n",
              "      <td>9994</td>\n",
              "      <td>2011-08-03 17:16:00</td>\n",
              "      <td>22</td>\n",
              "      <td>2011-08-03 20:03:00</td>\n",
              "      <td>24</td>\n",
              "      <td>B00002</td>\n",
              "      <td>Casual</td>\n",
              "      <td></td>\n",
              "      <td></td>\n",
              "      <td></td>\n",
              "    </tr>\n",
              "    <tr>\n",
              "      <th>1</th>\n",
              "      <td>8448</td>\n",
              "      <td>9991</td>\n",
              "      <td>2011-08-06 13:02:00</td>\n",
              "      <td>52</td>\n",
              "      <td>2011-08-06 15:48:00</td>\n",
              "      <td>24</td>\n",
              "      <td>B00174</td>\n",
              "      <td>Casual</td>\n",
              "      <td></td>\n",
              "      <td></td>\n",
              "      <td></td>\n",
              "    </tr>\n",
              "    <tr>\n",
              "      <th>2</th>\n",
              "      <td>11341</td>\n",
              "      <td>9998</td>\n",
              "      <td>2011-08-09 10:42:00</td>\n",
              "      <td>40</td>\n",
              "      <td>2011-08-09 13:29:00</td>\n",
              "      <td>42</td>\n",
              "      <td>B00513</td>\n",
              "      <td>Casual</td>\n",
              "      <td></td>\n",
              "      <td></td>\n",
              "      <td></td>\n",
              "    </tr>\n",
              "    <tr>\n",
              "      <th>3</th>\n",
              "      <td>24455</td>\n",
              "      <td>9995</td>\n",
              "      <td>2011-08-20 12:20:00</td>\n",
              "      <td>52</td>\n",
              "      <td>2011-08-20 15:07:00</td>\n",
              "      <td>17</td>\n",
              "      <td>B00552</td>\n",
              "      <td>Casual</td>\n",
              "      <td></td>\n",
              "      <td></td>\n",
              "      <td></td>\n",
              "    </tr>\n",
              "    <tr>\n",
              "      <th>4</th>\n",
              "      <td>55771</td>\n",
              "      <td>9994</td>\n",
              "      <td>2011-09-14 15:44:00</td>\n",
              "      <td>40</td>\n",
              "      <td>2011-09-14 18:30:00</td>\n",
              "      <td>40</td>\n",
              "      <td>B00139</td>\n",
              "      <td>Casual</td>\n",
              "      <td></td>\n",
              "      <td></td>\n",
              "      <td></td>\n",
              "    </tr>\n",
              "    <tr>\n",
              "      <th>5</th>\n",
              "      <td>81191</td>\n",
              "      <td>9993</td>\n",
              "      <td>2011-10-03 11:30:00</td>\n",
              "      <td>22</td>\n",
              "      <td>2011-10-03 14:16:00</td>\n",
              "      <td>36</td>\n",
              "      <td>B00474</td>\n",
              "      <td>Casual</td>\n",
              "      <td></td>\n",
              "      <td></td>\n",
              "      <td></td>\n",
              "    </tr>\n",
              "    <tr>\n",
              "      <th>6</th>\n",
              "      <td>89335</td>\n",
              "      <td>9997</td>\n",
              "      <td>2011-10-09 02:30:00</td>\n",
              "      <td>60</td>\n",
              "      <td>2011-10-09 05:17:00</td>\n",
              "      <td>45</td>\n",
              "      <td>B00047</td>\n",
              "      <td>Casual</td>\n",
              "      <td></td>\n",
              "      <td></td>\n",
              "      <td></td>\n",
              "    </tr>\n",
              "    <tr>\n",
              "      <th>7</th>\n",
              "      <td>124500</td>\n",
              "      <td>9992</td>\n",
              "      <td>2011-11-09 09:08:00</td>\n",
              "      <td>22</td>\n",
              "      <td>2011-11-09 11:55:00</td>\n",
              "      <td>40</td>\n",
              "      <td>B00387</td>\n",
              "      <td>Casual</td>\n",
              "      <td></td>\n",
              "      <td></td>\n",
              "      <td></td>\n",
              "    </tr>\n",
              "    <tr>\n",
              "      <th>8</th>\n",
              "      <td>133967</td>\n",
              "      <td>9996</td>\n",
              "      <td>2011-11-19 13:48:00</td>\n",
              "      <td>4</td>\n",
              "      <td>2011-11-19 16:35:00</td>\n",
              "      <td>58</td>\n",
              "      <td>B00238</td>\n",
              "      <td>Casual</td>\n",
              "      <td></td>\n",
              "      <td></td>\n",
              "      <td></td>\n",
              "    </tr>\n",
              "    <tr>\n",
              "      <th>9</th>\n",
              "      <td>147451</td>\n",
              "      <td>9996</td>\n",
              "      <td>2012-03-23 14:48:00</td>\n",
              "      <td>35</td>\n",
              "      <td>2012-03-23 17:35:00</td>\n",
              "      <td>33</td>\n",
              "      <td>B00550</td>\n",
              "      <td>Casual</td>\n",
              "      <td></td>\n",
              "      <td></td>\n",
              "      <td></td>\n",
              "    </tr>\n",
              "    <tr>\n",
              "      <th>10</th>\n",
              "      <td>315737</td>\n",
              "      <td>9995</td>\n",
              "      <td>2012-07-03 18:28:00</td>\n",
              "      <td>12</td>\n",
              "      <td>2012-07-03 21:15:00</td>\n",
              "      <td>12</td>\n",
              "      <td>B00250</td>\n",
              "      <td>Registered</td>\n",
              "      <td>'02120</td>\n",
              "      <td>1964</td>\n",
              "      <td>Male</td>\n",
              "    </tr>\n",
              "    <tr>\n",
              "      <th>11</th>\n",
              "      <td>319597</td>\n",
              "      <td>9994</td>\n",
              "      <td>2012-07-05 11:49:00</td>\n",
              "      <td>52</td>\n",
              "      <td>2012-07-05 14:35:00</td>\n",
              "      <td>55</td>\n",
              "      <td>B00237</td>\n",
              "      <td>Casual</td>\n",
              "      <td></td>\n",
              "      <td></td>\n",
              "      <td></td>\n",
              "    </tr>\n",
              "    <tr>\n",
              "      <th>12</th>\n",
              "      <td>416523</td>\n",
              "      <td>9998</td>\n",
              "      <td>2012-08-15 12:11:00</td>\n",
              "      <td>54</td>\n",
              "      <td>2012-08-15 14:58:00</td>\n",
              "      <td>80</td>\n",
              "      <td>B00188</td>\n",
              "      <td>Casual</td>\n",
              "      <td></td>\n",
              "      <td></td>\n",
              "      <td></td>\n",
              "    </tr>\n",
              "    <tr>\n",
              "      <th>13</th>\n",
              "      <td>541247</td>\n",
              "      <td>9999</td>\n",
              "      <td>2012-09-26 18:34:00</td>\n",
              "      <td>54</td>\n",
              "      <td>2012-09-26 21:21:00</td>\n",
              "      <td>54</td>\n",
              "      <td>T01078</td>\n",
              "      <td>Casual</td>\n",
              "      <td></td>\n",
              "      <td></td>\n",
              "      <td></td>\n",
              "    </tr>\n",
              "  </tbody>\n",
              "</table>\n",
              "</div>"
            ],
            "text/plain": [
              "        id  duration           start_date  ...  zip_code birth_date  gender\n",
              "0     4768      9994  2011-08-03 17:16:00  ...                             \n",
              "1     8448      9991  2011-08-06 13:02:00  ...                             \n",
              "2    11341      9998  2011-08-09 10:42:00  ...                             \n",
              "3    24455      9995  2011-08-20 12:20:00  ...                             \n",
              "4    55771      9994  2011-09-14 15:44:00  ...                             \n",
              "5    81191      9993  2011-10-03 11:30:00  ...                             \n",
              "6    89335      9997  2011-10-09 02:30:00  ...                             \n",
              "7   124500      9992  2011-11-09 09:08:00  ...                             \n",
              "8   133967      9996  2011-11-19 13:48:00  ...                             \n",
              "9   147451      9996  2012-03-23 14:48:00  ...                             \n",
              "10  315737      9995  2012-07-03 18:28:00  ...    '02120       1964    Male\n",
              "11  319597      9994  2012-07-05 11:49:00  ...                             \n",
              "12  416523      9998  2012-08-15 12:11:00  ...                             \n",
              "13  541247      9999  2012-09-26 18:34:00  ...                             \n",
              "\n",
              "[14 rows x 11 columns]"
            ]
          },
          "metadata": {
            "tags": []
          },
          "execution_count": 13
        }
      ]
    },
    {
      "cell_type": "code",
      "metadata": {
        "colab": {
          "base_uri": "https://localhost:8080/",
          "height": 134
        },
        "id": "5zCrroaaP4B3",
        "outputId": "99cf99b3-4baa-42ac-b0d3-24665ac1ef20"
      },
      "source": [
        "# WHERE can also combine multiple logical tests in our WHERE clause using AND or OR, foe example: we want to return the trips with a duration over 9990 seconds that also were taken by registered users:\n",
        "\n",
        "query = '''\n",
        "SELECT * FROM trips\n",
        "WHERE (duration >= 9990) AND (sub_type = \"Registered\")\n",
        "ORDER BY duration DESC;\n",
        "'''\n",
        "\n",
        "run_query(query)"
      ],
      "execution_count": 14,
      "outputs": [
        {
          "output_type": "execute_result",
          "data": {
            "text/html": [
              "<div>\n",
              "<style scoped>\n",
              "    .dataframe tbody tr th:only-of-type {\n",
              "        vertical-align: middle;\n",
              "    }\n",
              "\n",
              "    .dataframe tbody tr th {\n",
              "        vertical-align: top;\n",
              "    }\n",
              "\n",
              "    .dataframe thead th {\n",
              "        text-align: right;\n",
              "    }\n",
              "</style>\n",
              "<table border=\"1\" class=\"dataframe\">\n",
              "  <thead>\n",
              "    <tr style=\"text-align: right;\">\n",
              "      <th></th>\n",
              "      <th>id</th>\n",
              "      <th>duration</th>\n",
              "      <th>start_date</th>\n",
              "      <th>start_station</th>\n",
              "      <th>end_date</th>\n",
              "      <th>end_station</th>\n",
              "      <th>bike_number</th>\n",
              "      <th>sub_type</th>\n",
              "      <th>zip_code</th>\n",
              "      <th>birth_date</th>\n",
              "      <th>gender</th>\n",
              "    </tr>\n",
              "  </thead>\n",
              "  <tbody>\n",
              "    <tr>\n",
              "      <th>0</th>\n",
              "      <td>315737</td>\n",
              "      <td>9995</td>\n",
              "      <td>2012-07-03 18:28:00</td>\n",
              "      <td>12</td>\n",
              "      <td>2012-07-03 21:15:00</td>\n",
              "      <td>12</td>\n",
              "      <td>B00250</td>\n",
              "      <td>Registered</td>\n",
              "      <td>'02120</td>\n",
              "      <td>1964.0</td>\n",
              "      <td>Male</td>\n",
              "    </tr>\n",
              "  </tbody>\n",
              "</table>\n",
              "</div>"
            ],
            "text/plain": [
              "       id  duration           start_date  ...  zip_code birth_date  gender\n",
              "0  315737      9995  2012-07-03 18:28:00  ...    '02120     1964.0    Male\n",
              "\n",
              "[1 rows x 11 columns]"
            ]
          },
          "metadata": {
            "tags": []
          },
          "execution_count": 14
        }
      ]
    },
    {
      "cell_type": "code",
      "metadata": {
        "colab": {
          "base_uri": "https://localhost:8080/",
          "height": 80
        },
        "id": "a2NYAhgDRUzV",
        "outputId": "a4b52847-551e-4bee-b9cc-a9c09bbebe7f"
      },
      "source": [
        "# COUNT(1) and COUNT(*) count up every row in our query\n",
        "\n",
        "# a query that is going to return a total number of trips taken by registered users:\n",
        "\n",
        "query = '''\n",
        "SELECT COUNT(*) FROM trips\n",
        "WHERE sub_type = \"Registered\";\n",
        "'''\n",
        "\n",
        "run_query(query)"
      ],
      "execution_count": 16,
      "outputs": [
        {
          "output_type": "execute_result",
          "data": {
            "text/html": [
              "<div>\n",
              "<style scoped>\n",
              "    .dataframe tbody tr th:only-of-type {\n",
              "        vertical-align: middle;\n",
              "    }\n",
              "\n",
              "    .dataframe tbody tr th {\n",
              "        vertical-align: top;\n",
              "    }\n",
              "\n",
              "    .dataframe thead th {\n",
              "        text-align: right;\n",
              "    }\n",
              "</style>\n",
              "<table border=\"1\" class=\"dataframe\">\n",
              "  <thead>\n",
              "    <tr style=\"text-align: right;\">\n",
              "      <th></th>\n",
              "      <th>COUNT(*)</th>\n",
              "    </tr>\n",
              "  </thead>\n",
              "  <tbody>\n",
              "    <tr>\n",
              "      <th>0</th>\n",
              "      <td>1105192</td>\n",
              "    </tr>\n",
              "  </tbody>\n",
              "</table>\n",
              "</div>"
            ],
            "text/plain": [
              "   COUNT(*)\n",
              "0   1105192"
            ]
          },
          "metadata": {
            "tags": []
          },
          "execution_count": 16
        }
      ]
    },
    {
      "cell_type": "markdown",
      "metadata": {
        "id": "sAq0GkpFST0J"
      },
      "source": [
        "the column heading isn't particularly descriptive, if we want the results to be more readable we can use AS"
      ]
    },
    {
      "cell_type": "code",
      "metadata": {
        "colab": {
          "base_uri": "https://localhost:8080/",
          "height": 80
        },
        "id": "6-llRAe9SF9_",
        "outputId": "8462820c-5503-49c5-af4f-482b53d8e82c"
      },
      "source": [
        "query = '''\n",
        "SELECT COUNT(*) AS \"Total Trips by Registered Users\"\n",
        "FROM trips\n",
        "WHERE sub_type = \"Registered\";\n",
        "'''\n",
        "\n",
        "run_query(query)"
      ],
      "execution_count": 17,
      "outputs": [
        {
          "output_type": "execute_result",
          "data": {
            "text/html": [
              "<div>\n",
              "<style scoped>\n",
              "    .dataframe tbody tr th:only-of-type {\n",
              "        vertical-align: middle;\n",
              "    }\n",
              "\n",
              "    .dataframe tbody tr th {\n",
              "        vertical-align: top;\n",
              "    }\n",
              "\n",
              "    .dataframe thead th {\n",
              "        text-align: right;\n",
              "    }\n",
              "</style>\n",
              "<table border=\"1\" class=\"dataframe\">\n",
              "  <thead>\n",
              "    <tr style=\"text-align: right;\">\n",
              "      <th></th>\n",
              "      <th>Total Trips by Registered Users</th>\n",
              "    </tr>\n",
              "  </thead>\n",
              "  <tbody>\n",
              "    <tr>\n",
              "      <th>0</th>\n",
              "      <td>1105192</td>\n",
              "    </tr>\n",
              "  </tbody>\n",
              "</table>\n",
              "</div>"
            ],
            "text/plain": [
              "   Total Trips by Registered Users\n",
              "0                          1105192"
            ]
          },
          "metadata": {
            "tags": []
          },
          "execution_count": 17
        }
      ]
    },
    {
      "cell_type": "markdown",
      "metadata": {
        "id": "lzRyhbhDS5K0"
      },
      "source": [
        "### What was the average trip duration?"
      ]
    },
    {
      "cell_type": "code",
      "metadata": {
        "id": "brMOWL3wS9tC"
      },
      "source": [
        "# SUM, AVG, MIN, MAX return sum, average, minimum and maximum respectively. \n",
        "# These along with COUNT, are known as aggregate functions."
      ],
      "execution_count": 18,
      "outputs": []
    },
    {
      "cell_type": "code",
      "metadata": {
        "colab": {
          "base_uri": "https://localhost:8080/",
          "height": 80
        },
        "id": "tEHL-CfnTl64",
        "outputId": "9d77aa47-5183-4ab2-ab26-a0af3d9b24a0"
      },
      "source": [
        "query = '''\n",
        "SELECT AVG(duration) AS \"Average Duration\"\n",
        "FROM trips;\n",
        "'''\n",
        "\n",
        "run_query(query)"
      ],
      "execution_count": 19,
      "outputs": [
        {
          "output_type": "execute_result",
          "data": {
            "text/html": [
              "<div>\n",
              "<style scoped>\n",
              "    .dataframe tbody tr th:only-of-type {\n",
              "        vertical-align: middle;\n",
              "    }\n",
              "\n",
              "    .dataframe tbody tr th {\n",
              "        vertical-align: top;\n",
              "    }\n",
              "\n",
              "    .dataframe thead th {\n",
              "        text-align: right;\n",
              "    }\n",
              "</style>\n",
              "<table border=\"1\" class=\"dataframe\">\n",
              "  <thead>\n",
              "    <tr style=\"text-align: right;\">\n",
              "      <th></th>\n",
              "      <th>Average Duration</th>\n",
              "    </tr>\n",
              "  </thead>\n",
              "  <tbody>\n",
              "    <tr>\n",
              "      <th>0</th>\n",
              "      <td>912.409682</td>\n",
              "    </tr>\n",
              "  </tbody>\n",
              "</table>\n",
              "</div>"
            ],
            "text/plain": [
              "   Average Duration\n",
              "0        912.409682"
            ]
          },
          "metadata": {
            "tags": []
          },
          "execution_count": 19
        }
      ]
    },
    {
      "cell_type": "markdown",
      "metadata": {
        "id": "SvPOzmrOT3Kn"
      },
      "source": [
        "average trip duration is 912 seconds"
      ]
    },
    {
      "cell_type": "markdown",
      "metadata": {
        "id": "oe49YhjMUB_y"
      },
      "source": [
        "### Do registered or casual users take longer trips?"
      ]
    },
    {
      "cell_type": "code",
      "metadata": {
        "id": "3xyp4ihDT17w"
      },
      "source": [
        "# GROUP BY separates rows into groups based on the contents of a particular column\n",
        "# and allows us to perform aggregate functions on each group"
      ],
      "execution_count": 20,
      "outputs": []
    },
    {
      "cell_type": "code",
      "metadata": {
        "colab": {
          "base_uri": "https://localhost:8080/",
          "height": 111
        },
        "id": "sZ1Dmbm1UlZE",
        "outputId": "de91f21e-4b3a-4696-e842-d7a7aae994bf"
      },
      "source": [
        "query = '''\n",
        "SELECT sub_type, AVG(duration) AS \"Average Duration\"\n",
        "FROM trips\n",
        "GROUP BY sub_type;\n",
        "'''\n",
        "\n",
        "run_query(query)"
      ],
      "execution_count": 24,
      "outputs": [
        {
          "output_type": "execute_result",
          "data": {
            "text/html": [
              "<div>\n",
              "<style scoped>\n",
              "    .dataframe tbody tr th:only-of-type {\n",
              "        vertical-align: middle;\n",
              "    }\n",
              "\n",
              "    .dataframe tbody tr th {\n",
              "        vertical-align: top;\n",
              "    }\n",
              "\n",
              "    .dataframe thead th {\n",
              "        text-align: right;\n",
              "    }\n",
              "</style>\n",
              "<table border=\"1\" class=\"dataframe\">\n",
              "  <thead>\n",
              "    <tr style=\"text-align: right;\">\n",
              "      <th></th>\n",
              "      <th>sub_type</th>\n",
              "      <th>Average Duration</th>\n",
              "    </tr>\n",
              "  </thead>\n",
              "  <tbody>\n",
              "    <tr>\n",
              "      <th>0</th>\n",
              "      <td>Casual</td>\n",
              "      <td>1519.643897</td>\n",
              "    </tr>\n",
              "    <tr>\n",
              "      <th>1</th>\n",
              "      <td>Registered</td>\n",
              "      <td>657.026067</td>\n",
              "    </tr>\n",
              "  </tbody>\n",
              "</table>\n",
              "</div>"
            ],
            "text/plain": [
              "     sub_type  Average Duration\n",
              "0      Casual       1519.643897\n",
              "1  Registered        657.026067"
            ]
          },
          "metadata": {
            "tags": []
          },
          "execution_count": 24
        }
      ]
    },
    {
      "cell_type": "markdown",
      "metadata": {
        "id": "yRh4_HPOVwnj"
      },
      "source": [
        "### Which bike was used for the most trips?"
      ]
    },
    {
      "cell_type": "code",
      "metadata": {
        "colab": {
          "base_uri": "https://localhost:8080/",
          "height": 80
        },
        "id": "MxD3Srz_Vu3F",
        "outputId": "dc8df3f0-beaa-42f6-c461-08ce5ac1def2"
      },
      "source": [
        "query = '''\n",
        "SELECT bike_number as \"Bike Number\", COUNT(*) as \"Number of Trips\"\n",
        "FROM trips\n",
        "GROUP BY bike_number\n",
        "ORDER BY COUNT(*) DESC\n",
        "LIMIT 1;\n",
        "'''\n",
        "\n",
        "run_query(query)"
      ],
      "execution_count": 26,
      "outputs": [
        {
          "output_type": "execute_result",
          "data": {
            "text/html": [
              "<div>\n",
              "<style scoped>\n",
              "    .dataframe tbody tr th:only-of-type {\n",
              "        vertical-align: middle;\n",
              "    }\n",
              "\n",
              "    .dataframe tbody tr th {\n",
              "        vertical-align: top;\n",
              "    }\n",
              "\n",
              "    .dataframe thead th {\n",
              "        text-align: right;\n",
              "    }\n",
              "</style>\n",
              "<table border=\"1\" class=\"dataframe\">\n",
              "  <thead>\n",
              "    <tr style=\"text-align: right;\">\n",
              "      <th></th>\n",
              "      <th>Bike Number</th>\n",
              "      <th>Number of Trips</th>\n",
              "    </tr>\n",
              "  </thead>\n",
              "  <tbody>\n",
              "    <tr>\n",
              "      <th>0</th>\n",
              "      <td>B00490</td>\n",
              "      <td>2120</td>\n",
              "    </tr>\n",
              "  </tbody>\n",
              "</table>\n",
              "</div>"
            ],
            "text/plain": [
              "  Bike Number  Number of Trips\n",
              "0      B00490             2120"
            ]
          },
          "metadata": {
            "tags": []
          },
          "execution_count": 26
        }
      ]
    },
    {
      "cell_type": "code",
      "metadata": {
        "id": "OzcDyHo5XNY5"
      },
      "source": [
        "# we use GROUP BY to tell the COUNT function on line 1 of the query to count up each value for bike_number separately\n",
        "# we have ORDER BY clause to sort the table in descending order and make sure our most-used bike is at the top\n",
        "# we use LIMIT to restrict the output to the first row"
      ],
      "execution_count": 27,
      "outputs": []
    },
    {
      "cell_type": "markdown",
      "metadata": {
        "id": "kMzZN0uLYILa"
      },
      "source": [
        "### What is the average duration of trips by registered memebers over the age of 30?"
      ]
    },
    {
      "cell_type": "code",
      "metadata": {
        "colab": {
          "base_uri": "https://localhost:8080/",
          "height": 80
        },
        "id": "LJ0k1QXMYGOE",
        "outputId": "79f55697-d370-4511-d14c-605b33d8324e"
      },
      "source": [
        "query = '''\n",
        "SELECT AVG(duration) AS \"Average Duration by the Registered Members over 30\"\n",
        "FROM trips\n",
        "WHERE (2021 - birth_date) > 30;\n",
        "'''\n",
        "\n",
        "run_query(query)"
      ],
      "execution_count": 28,
      "outputs": [
        {
          "output_type": "execute_result",
          "data": {
            "text/html": [
              "<div>\n",
              "<style scoped>\n",
              "    .dataframe tbody tr th:only-of-type {\n",
              "        vertical-align: middle;\n",
              "    }\n",
              "\n",
              "    .dataframe tbody tr th {\n",
              "        vertical-align: top;\n",
              "    }\n",
              "\n",
              "    .dataframe thead th {\n",
              "        text-align: right;\n",
              "    }\n",
              "</style>\n",
              "<table border=\"1\" class=\"dataframe\">\n",
              "  <thead>\n",
              "    <tr style=\"text-align: right;\">\n",
              "      <th></th>\n",
              "      <th>Average Duration by the Registered Members over 30</th>\n",
              "    </tr>\n",
              "  </thead>\n",
              "  <tbody>\n",
              "    <tr>\n",
              "      <th>0</th>\n",
              "      <td>915.167566</td>\n",
              "    </tr>\n",
              "  </tbody>\n",
              "</table>\n",
              "</div>"
            ],
            "text/plain": [
              "   Average Duration by the Registered Members over 30\n",
              "0                                         915.167566 "
            ]
          },
          "metadata": {
            "tags": []
          },
          "execution_count": 28
        }
      ]
    },
    {
      "cell_type": "markdown",
      "metadata": {
        "id": "n_nGpF67ZnRb"
      },
      "source": [
        "### Which station is the most frequent starting point?"
      ]
    },
    {
      "cell_type": "code",
      "metadata": {
        "id": "B7Mix6INZhVG"
      },
      "source": [
        "# JOIN specifies which tables should be connected and ON specifies which columns in each table are related"
      ],
      "execution_count": 29,
      "outputs": []
    },
    {
      "cell_type": "code",
      "metadata": {
        "colab": {
          "base_uri": "https://localhost:8080/",
          "height": 204
        },
        "id": "07ATRRmMc9yl",
        "outputId": "ab38d50e-79bc-4885-97eb-9511ef2ecf54"
      },
      "source": [
        "query = '''\n",
        "SELECT * FROM stations\n",
        "LIMIT 5;\n",
        "'''\n",
        "\n",
        "run_query(query)"
      ],
      "execution_count": 30,
      "outputs": [
        {
          "output_type": "execute_result",
          "data": {
            "text/html": [
              "<div>\n",
              "<style scoped>\n",
              "    .dataframe tbody tr th:only-of-type {\n",
              "        vertical-align: middle;\n",
              "    }\n",
              "\n",
              "    .dataframe tbody tr th {\n",
              "        vertical-align: top;\n",
              "    }\n",
              "\n",
              "    .dataframe thead th {\n",
              "        text-align: right;\n",
              "    }\n",
              "</style>\n",
              "<table border=\"1\" class=\"dataframe\">\n",
              "  <thead>\n",
              "    <tr style=\"text-align: right;\">\n",
              "      <th></th>\n",
              "      <th>id</th>\n",
              "      <th>station</th>\n",
              "      <th>municipality</th>\n",
              "      <th>lat</th>\n",
              "      <th>lng</th>\n",
              "    </tr>\n",
              "  </thead>\n",
              "  <tbody>\n",
              "    <tr>\n",
              "      <th>0</th>\n",
              "      <td>3</td>\n",
              "      <td>Colleges of the Fenway</td>\n",
              "      <td>Boston</td>\n",
              "      <td>42.340021</td>\n",
              "      <td>-71.100812</td>\n",
              "    </tr>\n",
              "    <tr>\n",
              "      <th>1</th>\n",
              "      <td>4</td>\n",
              "      <td>Tremont St. at Berkeley St.</td>\n",
              "      <td>Boston</td>\n",
              "      <td>42.345392</td>\n",
              "      <td>-71.069616</td>\n",
              "    </tr>\n",
              "    <tr>\n",
              "      <th>2</th>\n",
              "      <td>5</td>\n",
              "      <td>Northeastern U / North Parking Lot</td>\n",
              "      <td>Boston</td>\n",
              "      <td>42.341814</td>\n",
              "      <td>-71.090179</td>\n",
              "    </tr>\n",
              "    <tr>\n",
              "      <th>3</th>\n",
              "      <td>6</td>\n",
              "      <td>Cambridge St. at Joy St.</td>\n",
              "      <td>Boston</td>\n",
              "      <td>42.361284999999995</td>\n",
              "      <td>-71.06514</td>\n",
              "    </tr>\n",
              "    <tr>\n",
              "      <th>4</th>\n",
              "      <td>7</td>\n",
              "      <td>Fan Pier</td>\n",
              "      <td>Boston</td>\n",
              "      <td>42.353412</td>\n",
              "      <td>-71.044624</td>\n",
              "    </tr>\n",
              "  </tbody>\n",
              "</table>\n",
              "</div>"
            ],
            "text/plain": [
              "   id                             station  ...                 lat         lng\n",
              "0   3              Colleges of the Fenway  ...           42.340021  -71.100812\n",
              "1   4         Tremont St. at Berkeley St.  ...           42.345392  -71.069616\n",
              "2   5  Northeastern U / North Parking Lot  ...           42.341814  -71.090179\n",
              "3   6            Cambridge St. at Joy St.  ...  42.361284999999995   -71.06514\n",
              "4   7                            Fan Pier  ...           42.353412  -71.044624\n",
              "\n",
              "[5 rows x 5 columns]"
            ]
          },
          "metadata": {
            "tags": []
          },
          "execution_count": 30
        }
      ]
    },
    {
      "cell_type": "code",
      "metadata": {
        "colab": {
          "base_uri": "https://localhost:8080/",
          "height": 204
        },
        "id": "qWmrPnQzdYb8",
        "outputId": "fcadcd42-72b2-41ac-dad9-c9402367683a"
      },
      "source": [
        "query = '''\n",
        "SELECT stations.station AS \"Station\", COUNT(*) AS \"Count\"\n",
        "FROM trips\n",
        "INNER JOIN stations\n",
        "ON trips.start_station = stations.id\n",
        "GROUP BY stations.station\n",
        "ORDER BY COUNT(*) DESC\n",
        "LIMIT 5; \n",
        "'''\n",
        "\n",
        "run_query(query)"
      ],
      "execution_count": 32,
      "outputs": [
        {
          "output_type": "execute_result",
          "data": {
            "text/html": [
              "<div>\n",
              "<style scoped>\n",
              "    .dataframe tbody tr th:only-of-type {\n",
              "        vertical-align: middle;\n",
              "    }\n",
              "\n",
              "    .dataframe tbody tr th {\n",
              "        vertical-align: top;\n",
              "    }\n",
              "\n",
              "    .dataframe thead th {\n",
              "        text-align: right;\n",
              "    }\n",
              "</style>\n",
              "<table border=\"1\" class=\"dataframe\">\n",
              "  <thead>\n",
              "    <tr style=\"text-align: right;\">\n",
              "      <th></th>\n",
              "      <th>Station</th>\n",
              "      <th>Count</th>\n",
              "    </tr>\n",
              "  </thead>\n",
              "  <tbody>\n",
              "    <tr>\n",
              "      <th>0</th>\n",
              "      <td>South Station - 700 Atlantic Ave.</td>\n",
              "      <td>56123</td>\n",
              "    </tr>\n",
              "    <tr>\n",
              "      <th>1</th>\n",
              "      <td>Boston Public Library - 700 Boylston St.</td>\n",
              "      <td>41994</td>\n",
              "    </tr>\n",
              "    <tr>\n",
              "      <th>2</th>\n",
              "      <td>Charles Circle - Charles St. at Cambridge St.</td>\n",
              "      <td>35984</td>\n",
              "    </tr>\n",
              "    <tr>\n",
              "      <th>3</th>\n",
              "      <td>Beacon St / Mass Ave</td>\n",
              "      <td>35275</td>\n",
              "    </tr>\n",
              "    <tr>\n",
              "      <th>4</th>\n",
              "      <td>MIT at Mass Ave / Amherst St</td>\n",
              "      <td>33644</td>\n",
              "    </tr>\n",
              "  </tbody>\n",
              "</table>\n",
              "</div>"
            ],
            "text/plain": [
              "                                         Station  Count\n",
              "0              South Station - 700 Atlantic Ave.  56123\n",
              "1       Boston Public Library - 700 Boylston St.  41994\n",
              "2  Charles Circle - Charles St. at Cambridge St.  35984\n",
              "3                           Beacon St / Mass Ave  35275\n",
              "4                   MIT at Mass Ave / Amherst St  33644"
            ]
          },
          "metadata": {
            "tags": []
          },
          "execution_count": 32
        }
      ]
    },
    {
      "cell_type": "markdown",
      "metadata": {
        "id": "PkKHVpn7ekec"
      },
      "source": [
        "### Which stations are most frequently used for round trips?"
      ]
    },
    {
      "cell_type": "code",
      "metadata": {
        "colab": {
          "base_uri": "https://localhost:8080/",
          "height": 204
        },
        "id": "m8OyVkGjeJrd",
        "outputId": "3790e6a7-13a3-483d-d1b6-f3fe052b4cc1"
      },
      "source": [
        "query = '''\n",
        "SELECT stations.station AS \"Station\", COUNT(*) AS \"Count\"\n",
        "FROM trips\n",
        "INNER JOIN stations\n",
        "ON trips.start_station = stations.id\n",
        "WHERE trips.start_station = trips.end_station\n",
        "GROUP BY stations.station\n",
        "ORDER BY COUNT(*) DESC\n",
        "LIMIT 5;\n",
        "'''\n",
        "\n",
        "run_query(query)"
      ],
      "execution_count": 34,
      "outputs": [
        {
          "output_type": "execute_result",
          "data": {
            "text/html": [
              "<div>\n",
              "<style scoped>\n",
              "    .dataframe tbody tr th:only-of-type {\n",
              "        vertical-align: middle;\n",
              "    }\n",
              "\n",
              "    .dataframe tbody tr th {\n",
              "        vertical-align: top;\n",
              "    }\n",
              "\n",
              "    .dataframe thead th {\n",
              "        text-align: right;\n",
              "    }\n",
              "</style>\n",
              "<table border=\"1\" class=\"dataframe\">\n",
              "  <thead>\n",
              "    <tr style=\"text-align: right;\">\n",
              "      <th></th>\n",
              "      <th>Station</th>\n",
              "      <th>Count</th>\n",
              "    </tr>\n",
              "  </thead>\n",
              "  <tbody>\n",
              "    <tr>\n",
              "      <th>0</th>\n",
              "      <td>The Esplanade - Beacon St. at Arlington St.</td>\n",
              "      <td>3064</td>\n",
              "    </tr>\n",
              "    <tr>\n",
              "      <th>1</th>\n",
              "      <td>Charles Circle - Charles St. at Cambridge St.</td>\n",
              "      <td>2739</td>\n",
              "    </tr>\n",
              "    <tr>\n",
              "      <th>2</th>\n",
              "      <td>Boston Public Library - 700 Boylston St.</td>\n",
              "      <td>2548</td>\n",
              "    </tr>\n",
              "    <tr>\n",
              "      <th>3</th>\n",
              "      <td>Boylston St. at Arlington St.</td>\n",
              "      <td>2163</td>\n",
              "    </tr>\n",
              "    <tr>\n",
              "      <th>4</th>\n",
              "      <td>Beacon St / Mass Ave</td>\n",
              "      <td>2144</td>\n",
              "    </tr>\n",
              "  </tbody>\n",
              "</table>\n",
              "</div>"
            ],
            "text/plain": [
              "                                         Station  Count\n",
              "0    The Esplanade - Beacon St. at Arlington St.   3064\n",
              "1  Charles Circle - Charles St. at Cambridge St.   2739\n",
              "2       Boston Public Library - 700 Boylston St.   2548\n",
              "3                  Boylston St. at Arlington St.   2163\n",
              "4                           Beacon St / Mass Ave   2144"
            ]
          },
          "metadata": {
            "tags": []
          },
          "execution_count": 34
        }
      ]
    },
    {
      "cell_type": "markdown",
      "metadata": {
        "id": "kZLMvWPjgKQg"
      },
      "source": [
        "### How many trips start and end in different municipalities?"
      ]
    },
    {
      "cell_type": "code",
      "metadata": {
        "colab": {
          "base_uri": "https://localhost:8080/",
          "height": 80
        },
        "id": "uVioqu7kf67X",
        "outputId": "52f0dd5e-979d-45ee-f5ec-953eda420fbf"
      },
      "source": [
        "query = '''\n",
        "SELECT COUNT(trips.id) AS \"Count\"\n",
        "FROM trips \n",
        "INNER JOIN stations AS start\n",
        "ON trips.start_station = start.id\n",
        "INNER JOIN stations AS end\n",
        "ON trips.end_station = end.id\n",
        "WHERE start.municipality != end.municipality;\n",
        "'''\n",
        "\n",
        "run_query(query)"
      ],
      "execution_count": 36,
      "outputs": [
        {
          "output_type": "execute_result",
          "data": {
            "text/html": [
              "<div>\n",
              "<style scoped>\n",
              "    .dataframe tbody tr th:only-of-type {\n",
              "        vertical-align: middle;\n",
              "    }\n",
              "\n",
              "    .dataframe tbody tr th {\n",
              "        vertical-align: top;\n",
              "    }\n",
              "\n",
              "    .dataframe thead th {\n",
              "        text-align: right;\n",
              "    }\n",
              "</style>\n",
              "<table border=\"1\" class=\"dataframe\">\n",
              "  <thead>\n",
              "    <tr style=\"text-align: right;\">\n",
              "      <th></th>\n",
              "      <th>Count</th>\n",
              "    </tr>\n",
              "  </thead>\n",
              "  <tbody>\n",
              "    <tr>\n",
              "      <th>0</th>\n",
              "      <td>309748</td>\n",
              "    </tr>\n",
              "  </tbody>\n",
              "</table>\n",
              "</div>"
            ],
            "text/plain": [
              "    Count\n",
              "0  309748"
            ]
          },
          "metadata": {
            "tags": []
          },
          "execution_count": 36
        }
      ]
    },
    {
      "cell_type": "markdown",
      "metadata": {
        "id": "cG7cjR9CiM_S"
      },
      "source": [
        "### How many trips incurred additional fees (lasted longer than 30 minutes)?"
      ]
    },
    {
      "cell_type": "code",
      "metadata": {
        "colab": {
          "base_uri": "https://localhost:8080/",
          "height": 204
        },
        "id": "pmqqk0qkhplR",
        "outputId": "17385909-2a93-4c3a-d94c-7201832ac044"
      },
      "source": [
        "query = '''\n",
        "SELECT * \n",
        "FROM trips\n",
        "LIMIT 5; \n",
        "'''\n",
        "\n",
        "run_query(query)"
      ],
      "execution_count": 37,
      "outputs": [
        {
          "output_type": "execute_result",
          "data": {
            "text/html": [
              "<div>\n",
              "<style scoped>\n",
              "    .dataframe tbody tr th:only-of-type {\n",
              "        vertical-align: middle;\n",
              "    }\n",
              "\n",
              "    .dataframe tbody tr th {\n",
              "        vertical-align: top;\n",
              "    }\n",
              "\n",
              "    .dataframe thead th {\n",
              "        text-align: right;\n",
              "    }\n",
              "</style>\n",
              "<table border=\"1\" class=\"dataframe\">\n",
              "  <thead>\n",
              "    <tr style=\"text-align: right;\">\n",
              "      <th></th>\n",
              "      <th>id</th>\n",
              "      <th>duration</th>\n",
              "      <th>start_date</th>\n",
              "      <th>start_station</th>\n",
              "      <th>end_date</th>\n",
              "      <th>end_station</th>\n",
              "      <th>bike_number</th>\n",
              "      <th>sub_type</th>\n",
              "      <th>zip_code</th>\n",
              "      <th>birth_date</th>\n",
              "      <th>gender</th>\n",
              "    </tr>\n",
              "  </thead>\n",
              "  <tbody>\n",
              "    <tr>\n",
              "      <th>0</th>\n",
              "      <td>1</td>\n",
              "      <td>9</td>\n",
              "      <td>2011-07-28 10:12:00</td>\n",
              "      <td>23</td>\n",
              "      <td>2011-07-28 10:12:00</td>\n",
              "      <td>23</td>\n",
              "      <td>B00468</td>\n",
              "      <td>Registered</td>\n",
              "      <td>'97217</td>\n",
              "      <td>1976.0</td>\n",
              "      <td>Male</td>\n",
              "    </tr>\n",
              "    <tr>\n",
              "      <th>1</th>\n",
              "      <td>2</td>\n",
              "      <td>220</td>\n",
              "      <td>2011-07-28 10:21:00</td>\n",
              "      <td>23</td>\n",
              "      <td>2011-07-28 10:25:00</td>\n",
              "      <td>23</td>\n",
              "      <td>B00554</td>\n",
              "      <td>Registered</td>\n",
              "      <td>'02215</td>\n",
              "      <td>1966.0</td>\n",
              "      <td>Male</td>\n",
              "    </tr>\n",
              "    <tr>\n",
              "      <th>2</th>\n",
              "      <td>3</td>\n",
              "      <td>56</td>\n",
              "      <td>2011-07-28 10:33:00</td>\n",
              "      <td>23</td>\n",
              "      <td>2011-07-28 10:34:00</td>\n",
              "      <td>23</td>\n",
              "      <td>B00456</td>\n",
              "      <td>Registered</td>\n",
              "      <td>'02108</td>\n",
              "      <td>1943.0</td>\n",
              "      <td>Male</td>\n",
              "    </tr>\n",
              "    <tr>\n",
              "      <th>3</th>\n",
              "      <td>4</td>\n",
              "      <td>64</td>\n",
              "      <td>2011-07-28 10:35:00</td>\n",
              "      <td>23</td>\n",
              "      <td>2011-07-28 10:36:00</td>\n",
              "      <td>23</td>\n",
              "      <td>B00554</td>\n",
              "      <td>Registered</td>\n",
              "      <td>'02116</td>\n",
              "      <td>1981.0</td>\n",
              "      <td>Female</td>\n",
              "    </tr>\n",
              "    <tr>\n",
              "      <th>4</th>\n",
              "      <td>5</td>\n",
              "      <td>12</td>\n",
              "      <td>2011-07-28 10:37:00</td>\n",
              "      <td>23</td>\n",
              "      <td>2011-07-28 10:37:00</td>\n",
              "      <td>23</td>\n",
              "      <td>B00554</td>\n",
              "      <td>Registered</td>\n",
              "      <td>'97214</td>\n",
              "      <td>1983.0</td>\n",
              "      <td>Female</td>\n",
              "    </tr>\n",
              "  </tbody>\n",
              "</table>\n",
              "</div>"
            ],
            "text/plain": [
              "   id  duration           start_date  ...  zip_code birth_date  gender\n",
              "0   1         9  2011-07-28 10:12:00  ...    '97217     1976.0    Male\n",
              "1   2       220  2011-07-28 10:21:00  ...    '02215     1966.0    Male\n",
              "2   3        56  2011-07-28 10:33:00  ...    '02108     1943.0    Male\n",
              "3   4        64  2011-07-28 10:35:00  ...    '02116     1981.0  Female\n",
              "4   5        12  2011-07-28 10:37:00  ...    '97214     1983.0  Female\n",
              "\n",
              "[5 rows x 11 columns]"
            ]
          },
          "metadata": {
            "tags": []
          },
          "execution_count": 37
        }
      ]
    },
    {
      "cell_type": "code",
      "metadata": {
        "colab": {
          "base_uri": "https://localhost:8080/",
          "height": 80
        },
        "id": "9gWAOsPhihqf",
        "outputId": "bde4c4ae-3a00-4e7c-fa8b-5e43940afda6"
      },
      "source": [
        "query = '''\n",
        "SELECT COUNT(*) AS \"Trips with Additional Fees\"\n",
        "FROM trips\n",
        "WHERE duration > 1800;\n",
        "'''\n",
        "\n",
        "run_query(query)"
      ],
      "execution_count": 38,
      "outputs": [
        {
          "output_type": "execute_result",
          "data": {
            "text/html": [
              "<div>\n",
              "<style scoped>\n",
              "    .dataframe tbody tr th:only-of-type {\n",
              "        vertical-align: middle;\n",
              "    }\n",
              "\n",
              "    .dataframe tbody tr th {\n",
              "        vertical-align: top;\n",
              "    }\n",
              "\n",
              "    .dataframe thead th {\n",
              "        text-align: right;\n",
              "    }\n",
              "</style>\n",
              "<table border=\"1\" class=\"dataframe\">\n",
              "  <thead>\n",
              "    <tr style=\"text-align: right;\">\n",
              "      <th></th>\n",
              "      <th>Trips with Additional Fees</th>\n",
              "    </tr>\n",
              "  </thead>\n",
              "  <tbody>\n",
              "    <tr>\n",
              "      <th>0</th>\n",
              "      <td>123155</td>\n",
              "    </tr>\n",
              "  </tbody>\n",
              "</table>\n",
              "</div>"
            ],
            "text/plain": [
              "   Trips with Additional Fees\n",
              "0                      123155"
            ]
          },
          "metadata": {
            "tags": []
          },
          "execution_count": 38
        }
      ]
    },
    {
      "cell_type": "markdown",
      "metadata": {
        "id": "TZPFflaMjJuI"
      },
      "source": [
        "### Which bike was used for the longest total time?"
      ]
    },
    {
      "cell_type": "code",
      "metadata": {
        "colab": {
          "base_uri": "https://localhost:8080/",
          "height": 80
        },
        "id": "YaIc1HjQjCSk",
        "outputId": "2bef36b6-260f-4862-e7b0-285f610f6d8c"
      },
      "source": [
        "query = '''\n",
        "SELECT bike_number AS \"Bike\", SUM(duration) AS \"Total Time\"\n",
        "FROM trips\n",
        "GROUP BY bike_number\n",
        "ORDER BY SUM(duration) DESC\n",
        "LIMIT 1;\n",
        "'''\n",
        "\n",
        "run_query(query)"
      ],
      "execution_count": 40,
      "outputs": [
        {
          "output_type": "execute_result",
          "data": {
            "text/html": [
              "<div>\n",
              "<style scoped>\n",
              "    .dataframe tbody tr th:only-of-type {\n",
              "        vertical-align: middle;\n",
              "    }\n",
              "\n",
              "    .dataframe tbody tr th {\n",
              "        vertical-align: top;\n",
              "    }\n",
              "\n",
              "    .dataframe thead th {\n",
              "        text-align: right;\n",
              "    }\n",
              "</style>\n",
              "<table border=\"1\" class=\"dataframe\">\n",
              "  <thead>\n",
              "    <tr style=\"text-align: right;\">\n",
              "      <th></th>\n",
              "      <th>Bike</th>\n",
              "      <th>Total Time</th>\n",
              "    </tr>\n",
              "  </thead>\n",
              "  <tbody>\n",
              "    <tr>\n",
              "      <th>0</th>\n",
              "      <td>B00490</td>\n",
              "      <td>2058643</td>\n",
              "    </tr>\n",
              "  </tbody>\n",
              "</table>\n",
              "</div>"
            ],
            "text/plain": [
              "     Bike  Total Time\n",
              "0  B00490     2058643"
            ]
          },
          "metadata": {
            "tags": []
          },
          "execution_count": 40
        }
      ]
    },
    {
      "cell_type": "markdown",
      "metadata": {
        "id": "HOqaxE0hkND_"
      },
      "source": [
        "### Did registered or casual users take more round trips?"
      ]
    },
    {
      "cell_type": "code",
      "metadata": {
        "colab": {
          "base_uri": "https://localhost:8080/",
          "height": 111
        },
        "id": "dXGJW8Acj87H",
        "outputId": "a5a915c3-049e-42a5-efb3-d84588456950"
      },
      "source": [
        "query = '''\n",
        "SELECT sub_type AS \"Type of User\", COUNT(sub_type) AS \"Number of Round Trips\"\n",
        "FROM trips INNER JOIN stations\n",
        "ON trips.start_station = stations.id\n",
        "WHERE trips.start_station = trips.end_station\n",
        "GROUP BY sub_type\n",
        "ORDER BY COUNT(sub_type) DESC\n",
        "'''\n",
        "\n",
        "run_query(query)\n"
      ],
      "execution_count": 43,
      "outputs": [
        {
          "output_type": "execute_result",
          "data": {
            "text/html": [
              "<div>\n",
              "<style scoped>\n",
              "    .dataframe tbody tr th:only-of-type {\n",
              "        vertical-align: middle;\n",
              "    }\n",
              "\n",
              "    .dataframe tbody tr th {\n",
              "        vertical-align: top;\n",
              "    }\n",
              "\n",
              "    .dataframe thead th {\n",
              "        text-align: right;\n",
              "    }\n",
              "</style>\n",
              "<table border=\"1\" class=\"dataframe\">\n",
              "  <thead>\n",
              "    <tr style=\"text-align: right;\">\n",
              "      <th></th>\n",
              "      <th>Type of User</th>\n",
              "      <th>Number of Round Trips</th>\n",
              "    </tr>\n",
              "  </thead>\n",
              "  <tbody>\n",
              "    <tr>\n",
              "      <th>0</th>\n",
              "      <td>Casual</td>\n",
              "      <td>41427</td>\n",
              "    </tr>\n",
              "    <tr>\n",
              "      <th>1</th>\n",
              "      <td>Registered</td>\n",
              "      <td>31635</td>\n",
              "    </tr>\n",
              "  </tbody>\n",
              "</table>\n",
              "</div>"
            ],
            "text/plain": [
              "  Type of User  Number of Round Trips\n",
              "0       Casual                  41427\n",
              "1   Registered                  31635"
            ]
          },
          "metadata": {
            "tags": []
          },
          "execution_count": 43
        }
      ]
    },
    {
      "cell_type": "markdown",
      "metadata": {
        "id": "tb3qsPkfmBmd"
      },
      "source": [
        "Answer: Casual users took more round trips."
      ]
    },
    {
      "cell_type": "code",
      "metadata": {
        "id": "1FInOzCymFeg"
      },
      "source": [
        ""
      ],
      "execution_count": null,
      "outputs": []
    }
  ]
}