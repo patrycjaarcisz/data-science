{
  "nbformat": 4,
  "nbformat_minor": 0,
  "metadata": {
    "colab": {
      "name": "OOP_Python.ipynb",
      "provenance": [],
      "authorship_tag": "ABX9TyNUFkFVNbyvxDCJtT69OCz1",
      "include_colab_link": true
    },
    "kernelspec": {
      "name": "python3",
      "display_name": "Python 3"
    }
  },
  "cells": [
    {
      "cell_type": "markdown",
      "metadata": {
        "id": "view-in-github",
        "colab_type": "text"
      },
      "source": [
        "<a href=\"https://colab.research.google.com/github/patrycjaarcisz/learning-data-science/blob/main/OOP_Python.ipynb\" target=\"_parent\"><img src=\"https://colab.research.google.com/assets/colab-badge.svg\" alt=\"Open In Colab\"/></a>"
      ]
    },
    {
      "cell_type": "markdown",
      "metadata": {
        "id": "DIbxqBCfNkn3"
      },
      "source": [
        "# OOP Python tutorials\n",
        "source: https://www.youtube.com/watch?v=ZDa-Z5JzLYM&list=PL-osiE80TeTsqhIuOqKhwlXsIBIdSeYtc"
      ]
    },
    {
      "cell_type": "markdown",
      "metadata": {
        "id": "LfXGNBeSOE6W"
      },
      "source": [
        "## Tutorial 1: Classes and Instances"
      ]
    },
    {
      "cell_type": "code",
      "metadata": {
        "colab": {
          "base_uri": "https://localhost:8080/"
        },
        "id": "k3y0ahyqORxO",
        "outputId": "b5f0dbb5-03c4-4820-fefe-e6ca4e53164a"
      },
      "source": [
        "class Employee:\n",
        "  pass\n",
        "\n",
        "# class: a blueprint for creating instances\n",
        "\n",
        "emp_1 = Employee()\n",
        "emp_2 = Employee() # each of those are instances of an Employee class\n",
        "\n",
        "print(emp_1)\n",
        "print(emp_2)"
      ],
      "execution_count": null,
      "outputs": [
        {
          "output_type": "stream",
          "text": [
            "<__main__.Employee object at 0x7fe2c177ef98>\n",
            "<__main__.Employee object at 0x7fe2c177ef60>\n"
          ],
          "name": "stdout"
        }
      ]
    },
    {
      "cell_type": "markdown",
      "metadata": {
        "id": "JiGY3K30QGFv"
      },
      "source": [
        "they are both unique and have different locations in memory"
      ]
    },
    {
      "cell_type": "code",
      "metadata": {
        "colab": {
          "base_uri": "https://localhost:8080/"
        },
        "id": "S42VGDs2P8Br",
        "outputId": "4865c73c-7346-4399-b31a-2bbad0524739"
      },
      "source": [
        "# we can manually create instance variables by doing something like this\n",
        "\n",
        "emp_1.first = \"Patrycja\"\n",
        "emp_1.last = \"Arcisz\"\n",
        "emp_1.email = \"Patrycja.Arcisz@company.com\"\n",
        "emp_1.pay = 50000\n",
        "\n",
        "emp_2.first = \"Test\"\n",
        "emp_2.last = \"User\"\n",
        "emp_2.email = \"Test.User@company.com\" # now each of these instances have attributes that are unique to them\n",
        "emp_2.pay = 60000\n",
        "\n",
        "print(emp_1.email)\n",
        "print(emp_2.email)\n"
      ],
      "execution_count": null,
      "outputs": [
        {
          "output_type": "stream",
          "text": [
            "Patrycja.Arcisz@company.com\n",
            "Test.User@company.com\n"
          ],
          "name": "stdout"
        }
      ]
    },
    {
      "cell_type": "markdown",
      "metadata": {
        "id": "KGV4aJsQR9aX"
      },
      "source": [
        "it doesn't make sense to do it manually, so:"
      ]
    },
    {
      "cell_type": "code",
      "metadata": {
        "colab": {
          "base_uri": "https://localhost:8080/"
        },
        "id": "2aN6AQe9RoR8",
        "outputId": "2b8cca84-7a3e-4dc0-9550-1989745671dc"
      },
      "source": [
        "class Employee:\n",
        "  def __init__(self, first, last, pay): # we initialize the class, init is the constructor, AFTER SELF WE CAN SPECIFY WHAT OTHER ARGUMENTS WE WANT TO ACCEPT\n",
        "    self.first = first # we're setting the instance variables\n",
        "    self.last = last\n",
        "    self.pay = pay\n",
        "    self.email = first + \".\" + last + \"@company.com\"\n",
        "\n",
        "  def fullname(self): # method\n",
        "    return '{} {}'.format(self.first, self.last)\n",
        "\n",
        "\n",
        "\n",
        "\n",
        "# creating the users automatically\n",
        "\n",
        "emp_1 = Employee(\"Patrycja\", \"Arcisz\", 50000)\n",
        "emp_2 = Employee(\"Test\", \"User\", 60000)\n",
        "\n",
        "print(emp_1.email)\n",
        "print(emp_2.email)\n"
      ],
      "execution_count": null,
      "outputs": [
        {
          "output_type": "stream",
          "text": [
            "Patrycja.Arcisz@company.com\n",
            "Test.User@company.com\n"
          ],
          "name": "stdout"
        }
      ]
    },
    {
      "cell_type": "code",
      "metadata": {
        "colab": {
          "base_uri": "https://localhost:8080/"
        },
        "id": "XS9E6FuLWFwC",
        "outputId": "558a0a66-333f-4a4b-a11b-a8f98748c8fd"
      },
      "source": [
        "print('{} {}'.format(emp_1.first, emp_1.last)) # manual check of the name of emp_1"
      ],
      "execution_count": null,
      "outputs": [
        {
          "output_type": "stream",
          "text": [
            "Patrycja Arcisz\n"
          ],
          "name": "stdout"
        }
      ]
    },
    {
      "cell_type": "markdown",
      "metadata": {
        "id": "fFn1DePbXtls"
      },
      "source": [
        "it's a lot to type in so instead we're creating a method in the class that allows us to put this functionality in one place\n",
        "\n"
      ]
    },
    {
      "cell_type": "code",
      "metadata": {
        "colab": {
          "base_uri": "https://localhost:8080/"
        },
        "id": "YlSaC7nxXq_K",
        "outputId": "035cc5ad-f2e7-4df2-d383-9508192953a9"
      },
      "source": [
        "# we created the method fullname, checking if it works:\n",
        "print(emp_1.fullname()) # it is a METHOD not an attribute,so we use () at the end"
      ],
      "execution_count": null,
      "outputs": [
        {
          "output_type": "stream",
          "text": [
            "Patrycja Arcisz\n"
          ],
          "name": "stdout"
        }
      ]
    },
    {
      "cell_type": "code",
      "metadata": {
        "colab": {
          "base_uri": "https://localhost:8080/"
        },
        "id": "V0ynM7uwYxMi",
        "outputId": "0c610702-ec1d-4ae8-ba01-d04e353646a0"
      },
      "source": [
        "print(emp_2.fullname())"
      ],
      "execution_count": null,
      "outputs": [
        {
          "output_type": "stream",
          "text": [
            "Test User\n"
          ],
          "name": "stdout"
        }
      ]
    },
    {
      "cell_type": "code",
      "metadata": {
        "colab": {
          "base_uri": "https://localhost:8080/"
        },
        "id": "xOaBLJcYZH8s",
        "outputId": "68e7e7bb-b70d-4c11-b293-e98c413e3eff"
      },
      "source": [
        "emp_1.fullname()\n",
        "print(Employee.fullname(emp_1)) # here we're passing in the instance in parantheses aka emp_1\n",
        "\n",
        "# both of these do the exact same thing"
      ],
      "execution_count": null,
      "outputs": [
        {
          "output_type": "stream",
          "text": [
            "Patrycja Arcisz\n"
          ],
          "name": "stdout"
        }
      ]
    },
    {
      "cell_type": "markdown",
      "metadata": {
        "id": "4UTT7MT8aMw7"
      },
      "source": [
        "## Tutorial 2: Class Variables"
      ]
    },
    {
      "cell_type": "markdown",
      "metadata": {
        "id": "0quwXRsnavL2"
      },
      "source": [
        "let'd add class variable: raise_amount, and method apply_raise"
      ]
    },
    {
      "cell_type": "code",
      "metadata": {
        "id": "RC8luIyEbuVG"
      },
      "source": [
        "class Employee:\n",
        "  \n",
        "  raise_amount = 1.04\n",
        "  \n",
        "  def __init__(self, first, last, pay):\n",
        "    self.first = first \n",
        "    self.last = last\n",
        "    self.pay = pay\n",
        "    self.email = first + \".\" + last + \"@company.com\"\n",
        "\n",
        "  def fullname(self):\n",
        "    return '{} {}'.format(self.first, self.last)\n",
        "  \n",
        "  def apply_raise(self):\n",
        "    self.pay = int(self.pay * self.raise_amount) "
      ],
      "execution_count": 1,
      "outputs": []
    },
    {
      "cell_type": "markdown",
      "metadata": {
        "id": "N87dnCORg66k"
      },
      "source": [
        "in method apply_raise we need to say self.raise_amount or Employee.raise_amount, because we want to access them throught the instance of the class or the class itself"
      ]
    },
    {
      "cell_type": "code",
      "metadata": {
        "colab": {
          "base_uri": "https://localhost:8080/"
        },
        "id": "-DVQyn31dVVo",
        "outputId": "0ba48b47-d048-4e98-f453-91d197ccc142"
      },
      "source": [
        "emp_1 = Employee(\"Patrycja\", \"Arcisz\", 50000)\n",
        "emp_2 = Employee(\"Test\", \"User\", 60000) \n",
        "\n",
        "print(emp_1.pay)\n",
        "emp_1.apply_raise()\n",
        "print(emp_1.pay)"
      ],
      "execution_count": 2,
      "outputs": [
        {
          "output_type": "stream",
          "text": [
            "50000\n",
            "52000\n"
          ],
          "name": "stdout"
        }
      ]
    },
    {
      "cell_type": "markdown",
      "metadata": {
        "id": "bnoHdP4QIkgl"
      },
      "source": [
        "to get a better understanding as to why we can use self.raise_amount (aka accessing it from instance):"
      ]
    },
    {
      "cell_type": "code",
      "metadata": {
        "id": "rcCXSsV5gW2G",
        "colab": {
          "base_uri": "https://localhost:8080/"
        },
        "outputId": "bf50418d-65c9-48f8-a8e5-e5fcdaa5a08e"
      },
      "source": [
        "print(Employee.raise_amount)\n",
        "print(emp_1.raise_amount)\n",
        "print(emp_2.raise_amount)"
      ],
      "execution_count": 3,
      "outputs": [
        {
          "output_type": "stream",
          "text": [
            "1.04\n",
            "1.04\n",
            "1.04\n"
          ],
          "name": "stdout"
        }
      ]
    },
    {
      "cell_type": "markdown",
      "metadata": {
        "id": "DpxYSQrIJBFn"
      },
      "source": [
        "as we can see, it's both accesible from the class and instance,\n",
        "\n",
        "what happens is that the program first checks if an instance contains certain attribute, if not, it then checks class attributes\n",
        "\n",
        "to get an even better understanding:"
      ]
    },
    {
      "cell_type": "code",
      "metadata": {
        "colab": {
          "base_uri": "https://localhost:8080/"
        },
        "id": "OOwlCg-0I-mK",
        "outputId": "a78f2705-a14b-490b-a336-58e4704b2fe0"
      },
      "source": [
        "print(emp_1.__dict__)"
      ],
      "execution_count": 4,
      "outputs": [
        {
          "output_type": "stream",
          "text": [
            "{'first': 'Patrycja', 'last': 'Arcisz', 'pay': 52000, 'email': 'Patrycja.Arcisz@company.com'}\n"
          ],
          "name": "stdout"
        }
      ]
    },
    {
      "cell_type": "code",
      "metadata": {
        "colab": {
          "base_uri": "https://localhost:8080/"
        },
        "id": "hPlmdMbwJk7G",
        "outputId": "64e6580b-862a-426b-bb6e-fe17b6a6096e"
      },
      "source": [
        "print(Employee.__dict__)"
      ],
      "execution_count": 5,
      "outputs": [
        {
          "output_type": "stream",
          "text": [
            "{'__module__': '__main__', 'raise_amount': 1.04, '__init__': <function Employee.__init__ at 0x7fa3dccc6830>, 'fullname': <function Employee.fullname at 0x7fa3dccc67a0>, 'apply_raise': <function Employee.apply_raise at 0x7fa3dccc6680>, '__dict__': <attribute '__dict__' of 'Employee' objects>, '__weakref__': <attribute '__weakref__' of 'Employee' objects>, '__doc__': None}\n"
          ],
          "name": "stdout"
        }
      ]
    },
    {
      "cell_type": "markdown",
      "metadata": {
        "id": "XzFrKJxyJwwS"
      },
      "source": [
        "that 'raise_amount': 1.04 is what our instances see when we're trying to access it from the instances"
      ]
    },
    {
      "cell_type": "code",
      "metadata": {
        "colab": {
          "base_uri": "https://localhost:8080/"
        },
        "id": "ZKU4iygXJveS",
        "outputId": "8d5020c8-17bd-40c7-cd1e-40b1a7431a30"
      },
      "source": [
        "Employee.raise_amount = 1.05\n",
        "\n",
        "print(Employee.raise_amount)\n",
        "print(emp_1.raise_amount)\n",
        "print(emp_2.raise_amount)"
      ],
      "execution_count": 11,
      "outputs": [
        {
          "output_type": "stream",
          "text": [
            "1.05\n",
            "1.05\n",
            "1.05\n"
          ],
          "name": "stdout"
        }
      ]
    },
    {
      "cell_type": "code",
      "metadata": {
        "colab": {
          "base_uri": "https://localhost:8080/"
        },
        "id": "Qp17PeSGKJmu",
        "outputId": "e511c79f-f4d5-4cc1-bcc5-b6bf27665740"
      },
      "source": [
        "Employee.raise_amount = 1.04\n",
        "emp_1.raise_amount = 1.05\n",
        "\n",
        "print(Employee.raise_amount)\n",
        "print(emp_1.raise_amount)\n",
        "print(emp_2.raise_amount)"
      ],
      "execution_count": 12,
      "outputs": [
        {
          "output_type": "stream",
          "text": [
            "1.04\n",
            "1.05\n",
            "1.04\n"
          ],
          "name": "stdout"
        }
      ]
    },
    {
      "cell_type": "markdown",
      "metadata": {
        "id": "BopRQlZ-KrDC"
      },
      "source": [
        "above we can see changing the attibute for the whole class vs. changing the attribute for just one instance"
      ]
    },
    {
      "cell_type": "code",
      "metadata": {
        "colab": {
          "base_uri": "https://localhost:8080/"
        },
        "id": "74flaVgwKaza",
        "outputId": "50de5267-09ef-4eaa-fc82-5010d3212200"
      },
      "source": [
        "print(emp_1.__dict__)"
      ],
      "execution_count": 13,
      "outputs": [
        {
          "output_type": "stream",
          "text": [
            "{'first': 'Patrycja', 'last': 'Arcisz', 'pay': 52000, 'email': 'Patrycja.Arcisz@company.com', 'raise_amount': 1.05}\n"
          ],
          "name": "stdout"
        }
      ]
    },
    {
      "cell_type": "markdown",
      "metadata": {
        "id": "W3qBAoYEK7xa"
      },
      "source": [
        "the assignment added the attribute to our instance, within its namespace\n",
        "\n",
        "by doing self.raise_amount instead of Employee.raise_amount we are allowed to change the amount of raise for certain instances, it overwrites the constant that was within the class variables"
      ]
    },
    {
      "cell_type": "code",
      "metadata": {
        "id": "Y42N9QCjK6M1"
      },
      "source": [
        "# CREATING NEW CLASS VARIABLE TO SEE HOW MANY EMPLOYEES WE HAVE\n",
        "\n",
        "class Employee:\n",
        "  \n",
        "  num_of_emps = 0\n",
        "  raise_amount = 1.04\n",
        "  \n",
        "  def __init__(self, first, last, pay):\n",
        "    self.first = first \n",
        "    self.last = last\n",
        "    self.pay = pay\n",
        "    self.email = first + \".\" + last + \"@company.com\"\n",
        "    # init runs every time we create a new instance, we use it to count how many employees we have\n",
        "    Employee.num_of_emps += 1\n",
        "\n",
        "  def fullname(self):\n",
        "    return '{} {}'.format(self.first, self.last)\n",
        "  \n",
        "  def apply_raise(self):\n",
        "    self.pay = int(self.pay * self.raise_amount) \n",
        "  \n",
        "emp_1 = Employee(\"Patrycja\", \"Arcisz\", 50000)\n",
        "emp_2 = Employee(\"Test\", \"User\", 60000)"
      ],
      "execution_count": 14,
      "outputs": []
    },
    {
      "cell_type": "code",
      "metadata": {
        "colab": {
          "base_uri": "https://localhost:8080/"
        },
        "id": "BaxUs2mpMUf2",
        "outputId": "0bee86d7-83d8-4668-a609-455a0efa6555"
      },
      "source": [
        "print(Employee.num_of_emps)"
      ],
      "execution_count": 15,
      "outputs": [
        {
          "output_type": "stream",
          "text": [
            "2\n"
          ],
          "name": "stdout"
        }
      ]
    },
    {
      "cell_type": "markdown",
      "metadata": {
        "id": "PyiRltymMP7c"
      },
      "source": [
        "## Tutorial 3: classmethods and staticmethods"
      ]
    },
    {
      "cell_type": "code",
      "metadata": {
        "id": "gwPDPYV2MlGR"
      },
      "source": [
        "class Employee:\n",
        "  \n",
        "  num_of_emps = 0\n",
        "  raise_amount = 1.04\n",
        "  \n",
        "  def __init__(self, first, last, pay):\n",
        "    self.first = first \n",
        "    self.last = last\n",
        "    self.pay = pay\n",
        "    self.email = first + \".\" + last + \"@company.com\"\n",
        "    \n",
        "    Employee.num_of_emps += 1\n",
        "\n",
        "  def fullname(self):\n",
        "    return '{} {}'.format(self.first, self.last)\n",
        "  \n",
        "  def apply_raise(self):\n",
        "    self.pay = int(self.pay * self.raise_amount) \n",
        "  \n",
        "  @classmethod # we use this decorator @ to create a class method, so we're working with class, instead of working with an instance\n",
        "  def set_raise_amount(cls, amount):\n",
        "    cls.raise_amount = amount \n",
        "  \n",
        "emp_1 = Employee(\"Patrycja\", \"Arcisz\", 50000)\n",
        "emp_2 = Employee(\"Test\", \"User\", 60000)"
      ],
      "execution_count": 20,
      "outputs": []
    },
    {
      "cell_type": "code",
      "metadata": {
        "colab": {
          "base_uri": "https://localhost:8080/"
        },
        "id": "McXzqVhBM2jC",
        "outputId": "1edc83b2-ea61-4af0-9e2c-b3c5a034099e"
      },
      "source": [
        "print(Employee.raise_amount)\n",
        "print(emp_1.raise_amount)\n",
        "print(emp_2.raise_amount)"
      ],
      "execution_count": 21,
      "outputs": [
        {
          "output_type": "stream",
          "text": [
            "1.04\n",
            "1.04\n",
            "1.04\n"
          ],
          "name": "stdout"
        }
      ]
    },
    {
      "cell_type": "markdown",
      "metadata": {
        "id": "pbJcb10VOMyP"
      },
      "source": [
        "we want to change the raise amount to 5%, so we use our class method set_raise_amount:"
      ]
    },
    {
      "cell_type": "code",
      "metadata": {
        "id": "ORCw-swROFoE"
      },
      "source": [
        "Employee.set_raise_amount(1.05) #it automatically passes the cls in, so we only need to give this function an amount"
      ],
      "execution_count": 23,
      "outputs": []
    },
    {
      "cell_type": "code",
      "metadata": {
        "colab": {
          "base_uri": "https://localhost:8080/"
        },
        "id": "B2ZrOujwOcUt",
        "outputId": "c57f64fe-3649-4f32-f4bb-c08c812fcb20"
      },
      "source": [
        "print(Employee.raise_amount)\n",
        "print(emp_1.raise_amount)\n",
        "print(emp_2.raise_amount)"
      ],
      "execution_count": 24,
      "outputs": [
        {
          "output_type": "stream",
          "text": [
            "1.05\n",
            "1.05\n",
            "1.05\n"
          ],
          "name": "stdout"
        }
      ]
    },
    {
      "cell_type": "code",
      "metadata": {
        "id": "n8mQdvIIOgU5"
      },
      "source": [
        "class Employee:\n",
        "  \n",
        "  num_of_emps = 0\n",
        "  raise_amount = 1.04\n",
        "  \n",
        "  def __init__(self, first, last, pay):\n",
        "    self.first = first \n",
        "    self.last = last\n",
        "    self.pay = pay\n",
        "    self.email = first + \".\" + last + \"@company.com\"\n",
        "    \n",
        "    Employee.num_of_emps += 1\n",
        "\n",
        "  def fullname(self):\n",
        "    return '{} {}'.format(self.first, self.last)\n",
        "  \n",
        "  def apply_raise(self):\n",
        "    self.pay = int(self.pay * self.raise_amount) \n",
        "  \n",
        "  @classmethod # we use this decorator @ to create a class method, so we're working with class, instead of working with an instance\n",
        "  def set_raise_amount(cls, amount):\n",
        "    cls.raise_amount = amount \n",
        "  # now we want to create an alternative contructor as an example, to parse an info from a string\n",
        "  @classmethod\n",
        "  def from_string(cls, emp_str):\n",
        "    first, last, pay = emp_str.split('-')\n",
        "    return cls(first, last, pay) # this line creates a new employee and returns it\n"
      ],
      "execution_count": 25,
      "outputs": []
    },
    {
      "cell_type": "code",
      "metadata": {
        "colab": {
          "base_uri": "https://localhost:8080/"
        },
        "id": "9wx4mZsgQHAX",
        "outputId": "e8dad1b5-ee7f-4b90-eb3d-478bf04abf97"
      },
      "source": [
        "emp_1 = Employee(\"Patrycja\", \"Arcisz\", 50000)\n",
        "emp_2 = Employee(\"Test\", \"User\", 60000)\n",
        "\n",
        "emp_str_1 = 'John-Doe-70000'\n",
        "emp_str_2 = 'Steve-Smith-30000'\n",
        "emp_str_3 = 'Jane-Doe-90000'\n",
        "\n",
        "new_emp_1 = Employee.from_string(emp_str_1)\n",
        "\n",
        "print(new_emp_1.email)\n",
        "print(new_emp_1.pay)"
      ],
      "execution_count": 26,
      "outputs": [
        {
          "output_type": "stream",
          "text": [
            "John.Doe@company.com\n",
            "70000\n"
          ],
          "name": "stdout"
        }
      ]
    },
    {
      "cell_type": "markdown",
      "metadata": {
        "id": "jnZnmw0uRLws"
      },
      "source": [
        "static methods don't pass anything automatically (contrary to @classmethods where it passed cls), they behave like regular classes, but we include them, bc they have some logical connection with the class"
      ]
    },
    {
      "cell_type": "code",
      "metadata": {
        "id": "-LzmGnAPQlvi"
      },
      "source": [
        "class Employee:\n",
        "  \n",
        "  num_of_emps = 0\n",
        "  raise_amount = 1.04\n",
        "  \n",
        "  def __init__(self, first, last, pay):\n",
        "    self.first = first \n",
        "    self.last = last\n",
        "    self.pay = pay\n",
        "    self.email = first + \".\" + last + \"@company.com\"\n",
        "    \n",
        "    Employee.num_of_emps += 1\n",
        "\n",
        "  def fullname(self):\n",
        "    return '{} {}'.format(self.first, self.last)\n",
        "  \n",
        "  def apply_raise(self):\n",
        "    self.pay = int(self.pay * self.raise_amount) \n",
        "  \n",
        "  @classmethod\n",
        "  def set_raise_amount(cls, amount):\n",
        "    cls.raise_amount = amount \n",
        "  \n",
        "  @classmethod\n",
        "  def from_string(cls, emp_str):\n",
        "    first, last, pay = emp_str.split('-')\n",
        "    return cls(first, last, pay)\n",
        "  \n",
        "  @staticmethod\n",
        "  def is_workday(day):\n",
        "    if day.weekday() == 5 or day.weekday() == 6: # 5 is a saturday, 6 is a sunday\n",
        "      return False\n",
        "    return True\n"
      ],
      "execution_count": 27,
      "outputs": []
    },
    {
      "cell_type": "code",
      "metadata": {
        "colab": {
          "base_uri": "https://localhost:8080/"
        },
        "id": "PLZg1htCZEnf",
        "outputId": "1a0529df-52e8-4764-9735-5965e3c33dbe"
      },
      "source": [
        "import datetime\n",
        "\n",
        "my_date = datetime.date(2021, 2, 24)\n",
        "\n",
        "print(Employee.is_workday(my_date))"
      ],
      "execution_count": 28,
      "outputs": [
        {
          "output_type": "stream",
          "text": [
            "True\n"
          ],
          "name": "stdout"
        }
      ]
    },
    {
      "cell_type": "markdown",
      "metadata": {
        "id": "CytyX4upZfL4"
      },
      "source": [
        "## Tutorial 4: Inheritance - Creating Subclasses"
      ]
    },
    {
      "cell_type": "code",
      "metadata": {
        "id": "zND85ZkUZXRM"
      },
      "source": [
        "class Employee:\n",
        "  \n",
        "  raise_amount = 1.04\n",
        "  \n",
        "  def __init__(self, first, last, pay):\n",
        "    self.first = first \n",
        "    self.last = last\n",
        "    self.pay = pay\n",
        "    self.email = first + \".\" + last + \"@company.com\"\n",
        "\n",
        "  def fullname(self):\n",
        "    return '{} {}'.format(self.first, self.last)\n",
        "  \n",
        "  def apply_raise(self):\n",
        "    self.pay = int(self.pay * self.raise_amount)\n",
        "\n",
        "\n",
        "class Developer(Employee): # in parentheses we specify the class we want to inherit from\n",
        "  pass"
      ],
      "execution_count": 40,
      "outputs": []
    },
    {
      "cell_type": "code",
      "metadata": {
        "colab": {
          "base_uri": "https://localhost:8080/"
        },
        "id": "hLf-CjjxZ1Vq",
        "outputId": "0c116634-7f9e-45af-d5b4-58353920822e"
      },
      "source": [
        "dev_1 = Employee('Patrycja', 'Arcisz', 50000)\n",
        "dev_2 = Employee('Test', 'Employee', 60000)\n",
        "\n",
        "print(dev_1.email)\n",
        "print(dev_2.email)"
      ],
      "execution_count": 41,
      "outputs": [
        {
          "output_type": "stream",
          "text": [
            "Patrycja.Arcisz@company.com\n",
            "Test.Employee@company.com\n"
          ],
          "name": "stdout"
        }
      ]
    },
    {
      "cell_type": "code",
      "metadata": {
        "colab": {
          "base_uri": "https://localhost:8080/"
        },
        "id": "tcbWvYD_a28C",
        "outputId": "36f2eba1-beb2-4028-d84a-508b2991edc9"
      },
      "source": [
        "dev_1 = Developer('Patrycja', 'Arcisz', 50000)\n",
        "dev_2 = Developer('Test', 'Employee', 60000)\n",
        "\n",
        "print(dev_1.email)\n",
        "print(dev_2.email)"
      ],
      "execution_count": 42,
      "outputs": [
        {
          "output_type": "stream",
          "text": [
            "Patrycja.Arcisz@company.com\n",
            "Test.Employee@company.com\n"
          ],
          "name": "stdout"
        }
      ]
    },
    {
      "cell_type": "markdown",
      "metadata": {
        "id": "m1bhITyNbGiL"
      },
      "source": [
        "we accesed the attributes that were set in our parent class"
      ]
    },
    {
      "cell_type": "code",
      "metadata": {
        "colab": {
          "base_uri": "https://localhost:8080/"
        },
        "id": "zo0fzp8-a-_z",
        "outputId": "f14fa67c-6217-4e75-f2ae-ec756a2842fa"
      },
      "source": [
        "print(help(Developer)) # the way to get a lot of info"
      ],
      "execution_count": 44,
      "outputs": [
        {
          "output_type": "stream",
          "text": [
            "Help on class Developer in module __main__:\n",
            "\n",
            "class Developer(Employee)\n",
            " |  Developer(first, last, pay)\n",
            " |  \n",
            " |  Method resolution order:\n",
            " |      Developer\n",
            " |      Employee\n",
            " |      builtins.object\n",
            " |  \n",
            " |  Methods inherited from Employee:\n",
            " |  \n",
            " |  __init__(self, first, last, pay)\n",
            " |      Initialize self.  See help(type(self)) for accurate signature.\n",
            " |  \n",
            " |  apply_raise(self)\n",
            " |  \n",
            " |  fullname(self)\n",
            " |  \n",
            " |  ----------------------------------------------------------------------\n",
            " |  Data descriptors inherited from Employee:\n",
            " |  \n",
            " |  __dict__\n",
            " |      dictionary for instance variables (if defined)\n",
            " |  \n",
            " |  __weakref__\n",
            " |      list of weak references to the object (if defined)\n",
            " |  \n",
            " |  ----------------------------------------------------------------------\n",
            " |  Data and other attributes inherited from Employee:\n",
            " |  \n",
            " |  raise_amount = 1.04\n",
            "\n",
            "None\n"
          ],
          "name": "stdout"
        }
      ]
    },
    {
      "cell_type": "code",
      "metadata": {
        "colab": {
          "base_uri": "https://localhost:8080/"
        },
        "id": "x_E-BdgVbXO8",
        "outputId": "e5a545e6-c973-4d4f-80f5-369f8a97c579"
      },
      "source": [
        "print(dev_1.pay)\n",
        "dev_1.apply_raise()\n",
        "print(dev_1.pay)"
      ],
      "execution_count": 45,
      "outputs": [
        {
          "output_type": "stream",
          "text": [
            "50000\n",
            "52000\n"
          ],
          "name": "stdout"
        }
      ]
    },
    {
      "cell_type": "markdown",
      "metadata": {
        "id": "BRo7d8ibcCa2"
      },
      "source": [
        "if we want our developers to have a higher rase:"
      ]
    },
    {
      "cell_type": "code",
      "metadata": {
        "id": "b2gOAWrqcALS"
      },
      "source": [
        "class Employee:\n",
        "  \n",
        "  raise_amount = 1.04\n",
        "  \n",
        "  def __init__(self, first, last, pay):\n",
        "    self.first = first \n",
        "    self.last = last\n",
        "    self.pay = pay\n",
        "    self.email = first + \".\" + last + \"@company.com\"\n",
        "\n",
        "  def fullname(self):\n",
        "    return '{} {}'.format(self.first, self.last)\n",
        "  \n",
        "  def apply_raise(self):\n",
        "    self.pay = int(self.pay * self.raise_amount)\n",
        "\n",
        "\n",
        "class Developer(Employee):\n",
        "  raise_amount = 1.10\n",
        "\n",
        "dev_1 = Developer('Patrycja', 'Arcisz', 50000)\n",
        "dev_2 = Developer('Test', 'Employee', 60000)"
      ],
      "execution_count": 48,
      "outputs": []
    },
    {
      "cell_type": "code",
      "metadata": {
        "colab": {
          "base_uri": "https://localhost:8080/"
        },
        "id": "O6OW_b6fcPLh",
        "outputId": "a75b12c0-b695-457c-efc6-6c2348f61c6b"
      },
      "source": [
        "print(dev_1.pay)\n",
        "dev_1.apply_raise()\n",
        "print(dev_1.pay)"
      ],
      "execution_count": 49,
      "outputs": [
        {
          "output_type": "stream",
          "text": [
            "50000\n",
            "55000\n"
          ],
          "name": "stdout"
        }
      ]
    },
    {
      "cell_type": "code",
      "metadata": {
        "colab": {
          "base_uri": "https://localhost:8080/"
        },
        "id": "aMUx0LJhcQrR",
        "outputId": "dc98ec43-98f7-40cd-c45c-8b672d23ae5d"
      },
      "source": [
        "emp_1 = Employee('Patrycja', 'Arcisz', 50000)\n",
        "print(emp_1.pay)\n",
        "emp_1.apply_raise()\n",
        "print(emp_1.pay)"
      ],
      "execution_count": 51,
      "outputs": [
        {
          "output_type": "stream",
          "text": [
            "50000\n",
            "52000\n"
          ],
          "name": "stdout"
        }
      ]
    },
    {
      "cell_type": "markdown",
      "metadata": {
        "id": "zVOmUDwTcsb2"
      },
      "source": [
        "we can see the difference in raises, so everything works fine"
      ]
    },
    {
      "cell_type": "code",
      "metadata": {
        "id": "IDQsg5ckcnxZ"
      },
      "source": [
        "class Employee:\n",
        "  \n",
        "  raise_amount = 1.04\n",
        "  \n",
        "  def __init__(self, first, last, pay):\n",
        "    self.first = first \n",
        "    self.last = last\n",
        "    self.pay = pay\n",
        "    self.email = first + \".\" + last + \"@company.com\"\n",
        "\n",
        "  def fullname(self):\n",
        "    return '{} {}'.format(self.first, self.last)\n",
        "  \n",
        "  def apply_raise(self):\n",
        "    self.pay = int(self.pay * self.raise_amount)\n",
        "\n",
        "\n",
        "class Developer(Employee):\n",
        "  \n",
        "  raise_amount = 1.10\n",
        "  # we want to add a programming language that a certain developer uses\n",
        "  def __init__(self, first, last, pay, prog_lang):\n",
        "    # we let the __init__ method from Employee handle first, last and pay\n",
        "    super().__init__(first, last, pay) # Employee.__init__(self,first,last, pay) is also valid\n",
        "    self.prog_lang = prog_lang\n",
        "\n",
        "class Manager(Employee):\n",
        "# we want to see a list of employees that a certain manager is supervising\n",
        "  def __init__(self, first, last, pay, employees=None):\n",
        "    super().__init__(first, last, pay)\n",
        "    if employees is None:\n",
        "      self.employees = []\n",
        "    else:\n",
        "      self.employees = employees\n",
        "  \n",
        "  def add_emp(self, emp):\n",
        "    if emp not in self.employees:\n",
        "      self.employees.append(emp)\n",
        "\n",
        "  def remove_emp(self, emp):\n",
        "    if emp in self.employees:\n",
        "      self.employees.remove(emp)\n",
        "  \n",
        "  def print_emps(self):\n",
        "    for emp in self.employees:\n",
        "      print('-->', emp.fullname())\n",
        "      \n",
        "dev_1 = Developer('Patrycja', 'Arcisz', 50000, 'Python')\n",
        "dev_2 = Developer('Test', 'Employee', 60000, 'Java')"
      ],
      "execution_count": 54,
      "outputs": []
    },
    {
      "cell_type": "code",
      "metadata": {
        "colab": {
          "base_uri": "https://localhost:8080/"
        },
        "id": "XbMvBK9PeO3E",
        "outputId": "407f380a-78c0-401e-d19d-21ef4cd7b3ce"
      },
      "source": [
        "print(dev_1.email)\n",
        "print(dev_1.prog_lang)"
      ],
      "execution_count": 53,
      "outputs": [
        {
          "output_type": "stream",
          "text": [
            "Patrycja.Arcisz@company.com\n",
            "Python\n"
          ],
          "name": "stdout"
        }
      ]
    },
    {
      "cell_type": "code",
      "metadata": {
        "colab": {
          "base_uri": "https://localhost:8080/"
        },
        "id": "qET8rTTAeS2l",
        "outputId": "b3504913-62dd-43ec-c777-eba3328733b6"
      },
      "source": [
        "mgr_1 = Manager('Sue', 'Smith', 90000, [dev_1])\n",
        "print(mgr_1.email)"
      ],
      "execution_count": 57,
      "outputs": [
        {
          "output_type": "stream",
          "text": [
            "Sue.Smith@company.com\n"
          ],
          "name": "stdout"
        }
      ]
    },
    {
      "cell_type": "code",
      "metadata": {
        "colab": {
          "base_uri": "https://localhost:8080/"
        },
        "id": "ozUPPi_Wf4oQ",
        "outputId": "d8b20e55-4bb0-4806-d11f-460724f92a0f"
      },
      "source": [
        "mgr_1.print_emps()"
      ],
      "execution_count": 58,
      "outputs": [
        {
          "output_type": "stream",
          "text": [
            "--> Patrycja Arcisz\n"
          ],
          "name": "stdout"
        }
      ]
    },
    {
      "cell_type": "code",
      "metadata": {
        "id": "nWpZa0QSf_HC"
      },
      "source": [
        "mgr_1.add_emp(dev_2)"
      ],
      "execution_count": 59,
      "outputs": []
    },
    {
      "cell_type": "code",
      "metadata": {
        "colab": {
          "base_uri": "https://localhost:8080/"
        },
        "id": "-9S9MdgdgD4v",
        "outputId": "d41f682c-2dfe-4ae4-ba6f-647c9a663908"
      },
      "source": [
        "mgr_1.print_emps()"
      ],
      "execution_count": 60,
      "outputs": [
        {
          "output_type": "stream",
          "text": [
            "--> Patrycja Arcisz\n",
            "--> Test Employee\n"
          ],
          "name": "stdout"
        }
      ]
    },
    {
      "cell_type": "code",
      "metadata": {
        "id": "MOJmJTyDgG-r"
      },
      "source": [
        "mgr_1.remove_emp(dev_2)"
      ],
      "execution_count": 68,
      "outputs": []
    },
    {
      "cell_type": "code",
      "metadata": {
        "colab": {
          "base_uri": "https://localhost:8080/"
        },
        "id": "AV4zYHTMgLCz",
        "outputId": "c314e566-fb0a-4dcb-c852-a0d8a8245ce0"
      },
      "source": [
        "mgr_1.print_emps()"
      ],
      "execution_count": 69,
      "outputs": [
        {
          "output_type": "stream",
          "text": [
            "--> Patrycja Arcisz\n"
          ],
          "name": "stdout"
        }
      ]
    },
    {
      "cell_type": "code",
      "metadata": {
        "colab": {
          "base_uri": "https://localhost:8080/"
        },
        "id": "Gd133Ow6gO5x",
        "outputId": "439865e4-fe96-411b-a4ae-8a4a3e4b9cde"
      },
      "source": [
        "# tells us if an object is an instance of a class\n",
        "\n",
        "print(isinstance(mgr_1, Manager))"
      ],
      "execution_count": 70,
      "outputs": [
        {
          "output_type": "stream",
          "text": [
            "True\n"
          ],
          "name": "stdout"
        }
      ]
    },
    {
      "cell_type": "code",
      "metadata": {
        "colab": {
          "base_uri": "https://localhost:8080/"
        },
        "id": "Hd1uyHSYgbRa",
        "outputId": "df7f1ca7-10ef-4d0a-eb20-68f5eb8b8bbf"
      },
      "source": [
        "print(isinstance(mgr_1, Employee))"
      ],
      "execution_count": 71,
      "outputs": [
        {
          "output_type": "stream",
          "text": [
            "True\n"
          ],
          "name": "stdout"
        }
      ]
    },
    {
      "cell_type": "code",
      "metadata": {
        "colab": {
          "base_uri": "https://localhost:8080/"
        },
        "id": "0k4ms1pxgf27",
        "outputId": "9d9161ba-e790-48ce-e7fa-445db5fec5d8"
      },
      "source": [
        "print(isinstance(mgr_1, Developer))"
      ],
      "execution_count": 72,
      "outputs": [
        {
          "output_type": "stream",
          "text": [
            "False\n"
          ],
          "name": "stdout"
        }
      ]
    },
    {
      "cell_type": "code",
      "metadata": {
        "colab": {
          "base_uri": "https://localhost:8080/"
        },
        "id": "-1-f9F3XglBk",
        "outputId": "8ca71f94-1da3-40fa-ed54-1c5f36849538"
      },
      "source": [
        "# tells us if a class is a subclass of another\n",
        "\n",
        "print(issubclass(Developer, Employee))"
      ],
      "execution_count": 73,
      "outputs": [
        {
          "output_type": "stream",
          "text": [
            "True\n"
          ],
          "name": "stdout"
        }
      ]
    },
    {
      "cell_type": "code",
      "metadata": {
        "colab": {
          "base_uri": "https://localhost:8080/"
        },
        "id": "6_yHkst-gpft",
        "outputId": "0173c933-a4d2-4667-854b-3159f94e233a"
      },
      "source": [
        "print(issubclass(Manager, Employee))"
      ],
      "execution_count": 74,
      "outputs": [
        {
          "output_type": "stream",
          "text": [
            "True\n"
          ],
          "name": "stdout"
        }
      ]
    },
    {
      "cell_type": "code",
      "metadata": {
        "colab": {
          "base_uri": "https://localhost:8080/"
        },
        "id": "3sWRdjG6g5uJ",
        "outputId": "d6eeb96c-c0ca-4799-965c-0f441f0c012d"
      },
      "source": [
        "print(issubclass(Manager, Developer))"
      ],
      "execution_count": 75,
      "outputs": [
        {
          "output_type": "stream",
          "text": [
            "False\n"
          ],
          "name": "stdout"
        }
      ]
    },
    {
      "cell_type": "markdown",
      "metadata": {
        "id": "_8Htau-OhNVE"
      },
      "source": [
        "## Tutorial 5: Special (Magic/Dunder) Methods"
      ]
    },
    {
      "cell_type": "code",
      "metadata": {
        "id": "R74vGLFYg8OK"
      },
      "source": [
        "class Employee:\n",
        "  \n",
        "  raise_amount = 1.04\n",
        "  \n",
        "  def __init__(self, first, last, pay):\n",
        "    self.first = first \n",
        "    self.last = last\n",
        "    self.pay = pay\n",
        "    self.email = first + \".\" + last + \"@company.com\"\n",
        "\n",
        "  def fullname(self):\n",
        "    return '{} {}'.format(self.first, self.last)\n",
        "  \n",
        "  def apply_raise(self):\n",
        "    self.pay = int(self.pay * self.raise_amount)\n",
        "\n",
        "emp_1 = Employee(\"Patrycja\", \"Arcisz\", 50000)\n",
        "emp_2 = Employee(\"Test\", \"User\", 60000)"
      ],
      "execution_count": 76,
      "outputs": []
    },
    {
      "cell_type": "code",
      "metadata": {
        "colab": {
          "base_uri": "https://localhost:8080/"
        },
        "id": "JjtzaIKDhg79",
        "outputId": "5cc2f7d6-750d-49fa-a579-488c1c1c13c3"
      },
      "source": [
        "print(emp_1)"
      ],
      "execution_count": 77,
      "outputs": [
        {
          "output_type": "stream",
          "text": [
            "<__main__.Employee object at 0x7fa3d41a6350>\n"
          ],
          "name": "stdout"
        }
      ]
    },
    {
      "cell_type": "markdown",
      "metadata": {
        "id": "HyiJSdRCmHmM"
      },
      "source": [
        "would be nice if we could print out something more user friendly, and special methods allow us to do so i.e. we can change some built-in behaviour"
      ]
    },
    {
      "cell_type": "code",
      "metadata": {
        "id": "XBjViQiamGEo"
      },
      "source": [
        "class Employee:\n",
        "  \n",
        "  raise_amount = 1.04\n",
        "  \n",
        "  def __init__(self, first, last, pay):\n",
        "    self.first = first \n",
        "    self.last = last\n",
        "    self.pay = pay\n",
        "    self.email = first + \".\" + last + \"@company.com\"\n",
        "\n",
        "  def fullname(self):\n",
        "    return '{} {}'.format(self.first, self.last)\n",
        "  \n",
        "  def apply_raise(self):\n",
        "    self.pay = int(self.pay * self.raise_amount)\n",
        "  \n",
        "  def __repr__(self): # mainly meant to see by other devops\n",
        "    return \"Employee('{}', '{}', {})\".format(self.first, self.last, self.pay)\n",
        "  \n",
        "  #def __str__(self): # meant to be use as a display for a normal user\n",
        "   # pass\n",
        "\n",
        "emp_1 = Employee(\"Patrycja\", \"Arcisz\", 50000)\n",
        "emp_2 = Employee(\"Test\", \"User\", 60000)"
      ],
      "execution_count": 86,
      "outputs": []
    },
    {
      "cell_type": "code",
      "metadata": {
        "colab": {
          "base_uri": "https://localhost:8080/"
        },
        "id": "IplH50MrneWe",
        "outputId": "bc533a1b-26c3-418d-b794-22cb3a838ca8"
      },
      "source": [
        "print(emp_1) # if we copy and paste the output we can recreate emp_1"
      ],
      "execution_count": 88,
      "outputs": [
        {
          "output_type": "stream",
          "text": [
            "Employee('Patrycja', 'Arcisz', 50000)\n"
          ],
          "name": "stdout"
        }
      ]
    },
    {
      "cell_type": "code",
      "metadata": {
        "colab": {
          "base_uri": "https://localhost:8080/"
        },
        "id": "YflZxBfFn7Gi",
        "outputId": "3d20c225-54d4-4d64-ce23-951bfef913bd"
      },
      "source": [
        "class Employee:\n",
        "  \n",
        "  raise_amount = 1.04\n",
        "  \n",
        "  def __init__(self, first, last, pay):\n",
        "    self.first = first \n",
        "    self.last = last\n",
        "    self.pay = pay\n",
        "    self.email = first + \".\" + last + \"@company.com\"\n",
        "\n",
        "  def fullname(self):\n",
        "    return '{} {}'.format(self.first, self.last)\n",
        "  \n",
        "  def apply_raise(self):\n",
        "    self.pay = int(self.pay * self.raise_amount)\n",
        "  \n",
        "  def __repr__(self): # mainly meant to see by other devops\n",
        "    return \"Employee('{}', '{}', {})\".format(self.first, self.last, self.pay)\n",
        "  \n",
        "  def __str__(self): # meant to be use as a display for a normal user\n",
        "    return '{} - {}'.format(self.fullname(), self.email)\n",
        "\n",
        "emp_1 = Employee(\"Patrycja\", \"Arcisz\", 50000)\n",
        "emp_2 = Employee(\"Test\", \"User\", 60000)\n",
        "\n",
        "print(emp_1)"
      ],
      "execution_count": 90,
      "outputs": [
        {
          "output_type": "stream",
          "text": [
            "Patrycja Arcisz - Patrycja.Arcisz@company.com\n"
          ],
          "name": "stdout"
        }
      ]
    },
    {
      "cell_type": "code",
      "metadata": {
        "colab": {
          "base_uri": "https://localhost:8080/"
        },
        "id": "apQIM9P8ouQj",
        "outputId": "fe9fc82c-b19f-4b80-a3cc-a5ef9add83ad"
      },
      "source": [
        "# we can still access the repr (note: if str is not defined it automatically displays what's in repr)\n",
        "\n",
        "print(repr(emp_1))\n",
        "print(str(emp_1))"
      ],
      "execution_count": 93,
      "outputs": [
        {
          "output_type": "stream",
          "text": [
            "Employee('Patrycja', 'Arcisz', 50000)\n",
            "Patrycja Arcisz - Patrycja.Arcisz@company.com\n"
          ],
          "name": "stdout"
        }
      ]
    },
    {
      "cell_type": "code",
      "metadata": {
        "colab": {
          "base_uri": "https://localhost:8080/"
        },
        "id": "ruJs7SLapG-c",
        "outputId": "786acc4b-316a-435a-c899-8a89a36f9848"
      },
      "source": [
        "# another way to do what's in the cell above\n",
        "\n",
        "print(emp_1.__repr__())\n",
        "print(emp_1.__str__())"
      ],
      "execution_count": 94,
      "outputs": [
        {
          "output_type": "stream",
          "text": [
            "Employee('Patrycja', 'Arcisz', 50000)\n",
            "Patrycja Arcisz - Patrycja.Arcisz@company.com\n"
          ],
          "name": "stdout"
        }
      ]
    },
    {
      "cell_type": "code",
      "metadata": {
        "colab": {
          "base_uri": "https://localhost:8080/"
        },
        "id": "GDM3Di2Yprck",
        "outputId": "fab10e37-7bbf-46d6-a3ee-3491b0a06be7"
      },
      "source": [
        "print('USING A + :')\n",
        "print(1+2)\n",
        "print('a' + 'b')\n",
        "print('USING DUNDER METHODS:')\n",
        "print(int.__add__(1,2))\n",
        "print(str.__add__('a', 'b'))"
      ],
      "execution_count": 99,
      "outputs": [
        {
          "output_type": "stream",
          "text": [
            "USING A + :\n",
            "3\n",
            "ab\n",
            "USING DUNDER METHODS:\n",
            "3\n",
            "ab\n"
          ],
          "name": "stdout"
        }
      ]
    },
    {
      "cell_type": "code",
      "metadata": {
        "id": "nU4FKqK8p5EK"
      },
      "source": [
        "class Employee:\n",
        "  \n",
        "  raise_amount = 1.04\n",
        "  \n",
        "  def __init__(self, first, last, pay):\n",
        "    self.first = first \n",
        "    self.last = last\n",
        "    self.pay = pay\n",
        "    self.email = first + \".\" + last + \"@company.com\"\n",
        "\n",
        "  def fullname(self):\n",
        "    return '{} {}'.format(self.first, self.last)\n",
        "  \n",
        "  def apply_raise(self):\n",
        "    self.pay = int(self.pay * self.raise_amount)\n",
        "  \n",
        "  def __repr__(self):\n",
        "    return \"Employee('{}', '{}', {})\".format(self.first, self.last, self.pay)\n",
        "  \n",
        "  def __str__(self):\n",
        "    return '{} - {}'.format(self.fullname(), self.email)\n",
        "  \n",
        "  def __add__(self, other): # when we add two employees together it's going to give us their combined pay as an output\n",
        "    return self.pay + other.pay\n",
        "\n",
        "emp_1 = Employee(\"Patrycja\", \"Arcisz\", 50000)\n",
        "emp_2 = Employee(\"Test\", \"User\", 60000)"
      ],
      "execution_count": 100,
      "outputs": []
    },
    {
      "cell_type": "code",
      "metadata": {
        "colab": {
          "base_uri": "https://localhost:8080/"
        },
        "id": "IvTDY6Qgqm5w",
        "outputId": "4c9727b9-4c0c-42f1-d27f-923ba93e4036"
      },
      "source": [
        "print(emp_1 + emp_2)"
      ],
      "execution_count": 102,
      "outputs": [
        {
          "output_type": "stream",
          "text": [
            "110000\n"
          ],
          "name": "stdout"
        }
      ]
    },
    {
      "cell_type": "markdown",
      "metadata": {
        "id": "3fbUVSErquF9"
      },
      "source": [
        "if we didn't have a dunder add method, summing emp_1 and emp_2 would give us an error\n",
        "\n",
        "(check: emulating numeric types in python documentation)"
      ]
    },
    {
      "cell_type": "code",
      "metadata": {
        "colab": {
          "base_uri": "https://localhost:8080/"
        },
        "id": "sGU9Wa6JqqSg",
        "outputId": "2a7805d3-6133-41a7-e779-f07ba5248e2d"
      },
      "source": [
        "print(len('test'))"
      ],
      "execution_count": 103,
      "outputs": [
        {
          "output_type": "stream",
          "text": [
            "4\n"
          ],
          "name": "stdout"
        }
      ]
    },
    {
      "cell_type": "code",
      "metadata": {
        "colab": {
          "base_uri": "https://localhost:8080/"
        },
        "id": "llgj9GqKtcWQ",
        "outputId": "570149e2-cad6-4771-b58c-fe8b53da5241"
      },
      "source": [
        "print('test'.__len__()) # len is also a dunder method"
      ],
      "execution_count": 105,
      "outputs": [
        {
          "output_type": "stream",
          "text": [
            "4\n"
          ],
          "name": "stdout"
        }
      ]
    },
    {
      "cell_type": "code",
      "metadata": {
        "id": "xmyj2LxftgQo"
      },
      "source": [
        "class Employee:\n",
        "  \n",
        "  raise_amount = 1.04\n",
        "  \n",
        "  def __init__(self, first, last, pay):\n",
        "    self.first = first \n",
        "    self.last = last\n",
        "    self.pay = pay\n",
        "    self.email = first + \".\" + last + \"@company.com\"\n",
        "\n",
        "  def fullname(self):\n",
        "    return '{} {}'.format(self.first, self.last)\n",
        "  \n",
        "  def apply_raise(self):\n",
        "    self.pay = int(self.pay * self.raise_amount)\n",
        "  \n",
        "  def __repr__(self):\n",
        "    return \"Employee('{}', '{}', {})\".format(self.first, self.last, self.pay)\n",
        "  \n",
        "  def __str__(self):\n",
        "    return '{} - {}'.format(self.fullname(), self.email)\n",
        "  \n",
        "  def __add__(self, other): # when we add two employees together it's going to give us their combined pay as an output\n",
        "    return self.pay + other.pay\n",
        "\n",
        "  def __len__(self): # when we run it we want it to return a total number of characters in their full name\n",
        "    return len(self.fullname())\n",
        "\n",
        "emp_1 = Employee(\"Patrycja\", \"Arcisz\", 50000)\n",
        "emp_2 = Employee(\"Test\", \"User\", 60000)"
      ],
      "execution_count": 106,
      "outputs": []
    },
    {
      "cell_type": "code",
      "metadata": {
        "colab": {
          "base_uri": "https://localhost:8080/"
        },
        "id": "K0v0SOGUt6Le",
        "outputId": "fe78e1dd-08ba-4221-b5b5-d311a6d39ffa"
      },
      "source": [
        "print(len(emp_1))"
      ],
      "execution_count": 107,
      "outputs": [
        {
          "output_type": "stream",
          "text": [
            "15\n"
          ],
          "name": "stdout"
        }
      ]
    },
    {
      "cell_type": "markdown",
      "metadata": {
        "id": "XfR5Cq8KumLp"
      },
      "source": [
        "## Tutorial 6: Property Decorators - Getters, Setters and Deleters"
      ]
    },
    {
      "cell_type": "code",
      "metadata": {
        "colab": {
          "base_uri": "https://localhost:8080/"
        },
        "id": "JfV8nnEruj_R",
        "outputId": "816cbf1a-68d4-47d1-963a-fa4ae94eac5e"
      },
      "source": [
        "class Employee:\n",
        "  \n",
        "  def __init__(self, first, last):\n",
        "    self.first = first \n",
        "    self.last = last\n",
        "    self.email = first + \".\" + last + \"@company.com\"\n",
        "\n",
        "  def fullname(self):\n",
        "    return '{} {}'.format(self.first, self.last)\n",
        "\n",
        "emp_1 = Employee('John', 'Smith')\n",
        "\n",
        "print(emp_1.first)\n",
        "print(emp_1.email)\n",
        "print(emp_1.fullname())"
      ],
      "execution_count": 111,
      "outputs": [
        {
          "output_type": "stream",
          "text": [
            "John\n",
            "John.Smith@company.com\n",
            "John Smith\n"
          ],
          "name": "stdout"
        }
      ]
    },
    {
      "cell_type": "code",
      "metadata": {
        "colab": {
          "base_uri": "https://localhost:8080/"
        },
        "id": "bMiPiQd1wAd4",
        "outputId": "4a5758b9-1831-4296-bc1b-ceb42b21780a"
      },
      "source": [
        "emp_1.first = 'Jim'\n",
        "\n",
        "print(emp_1.first)\n",
        "print(emp_1.email)\n",
        "print(emp_1.fullname())"
      ],
      "execution_count": 113,
      "outputs": [
        {
          "output_type": "stream",
          "text": [
            "Jim\n",
            "John.Smith@company.com\n",
            "Jim Smith\n"
          ],
          "name": "stdout"
        }
      ]
    },
    {
      "cell_type": "markdown",
      "metadata": {
        "id": "sWHKIQEWwUzW"
      },
      "source": [
        "email still has our old name (john), bc every time we run the fullname() method it grabs the current first name and last name"
      ]
    },
    {
      "cell_type": "code",
      "metadata": {
        "colab": {
          "base_uri": "https://localhost:8080/"
        },
        "id": "ktmSFvl8wOP7",
        "outputId": "b1874de2-7cf0-4a97-ebe2-030d22de1bf1"
      },
      "source": [
        "# we remove the email attribute and add a email method\n",
        "class Employee:\n",
        "  \n",
        "  def __init__(self, first, last):\n",
        "    self.first = first \n",
        "    self.last = last\n",
        "\n",
        "  def fullname(self):\n",
        "    return '{} {}'.format(self.first, self.last)\n",
        "\n",
        "  def email(self):\n",
        "    return '{}.{}@company.com'.format(self.first, self.last)\n",
        "\n",
        "emp_1 = Employee('John', 'Smith') \n",
        "emp_1.first = 'Jim'\n",
        "\n",
        "print(emp_1.first)\n",
        "print(emp_1.email())\n",
        "print(emp_1.fullname())"
      ],
      "execution_count": 114,
      "outputs": [
        {
          "output_type": "stream",
          "text": [
            "Jim\n",
            "Jim.Smith@company.com\n",
            "Jim Smith\n"
          ],
          "name": "stdout"
        }
      ]
    },
    {
      "cell_type": "markdown",
      "metadata": {
        "id": "VJIRWXUzxW8x"
      },
      "source": [
        "it works, but anyone who's using our class would have to change it too and it's not what we want, so we add a PROPPERTY DECORATOR over our email method"
      ]
    },
    {
      "cell_type": "code",
      "metadata": {
        "colab": {
          "base_uri": "https://localhost:8080/"
        },
        "id": "PKXzeESGxRjn",
        "outputId": "aff7ebbb-33b5-4516-f2bc-4c46a072f2e5"
      },
      "source": [
        "class Employee:\n",
        "  \n",
        "  def __init__(self, first, last):\n",
        "    self.first = first \n",
        "    self.last = last\n",
        "\n",
        "  def fullname(self):\n",
        "    return '{} {}'.format(self.first, self.last)\n",
        "\n",
        "  @property # by making this small change we can access the email like an attribute\n",
        "  def email(self):\n",
        "    return '{}.{}@company.com'.format(self.first, self.last)\n",
        "\n",
        "emp_1 = Employee('John', 'Smith') \n",
        "emp_1.first = 'Jim'\n",
        "\n",
        "print(emp_1.first)\n",
        "print(emp_1.email)\n",
        "print(emp_1.fullname())"
      ],
      "execution_count": 115,
      "outputs": [
        {
          "output_type": "stream",
          "text": [
            "Jim\n",
            "Jim.Smith@company.com\n",
            "Jim Smith\n"
          ],
          "name": "stdout"
        }
      ]
    },
    {
      "cell_type": "code",
      "metadata": {
        "colab": {
          "base_uri": "https://localhost:8080/"
        },
        "id": "8vy4FQdIx1tI",
        "outputId": "4016e380-68f8-4ce2-cdfe-46cff07ec78a"
      },
      "source": [
        "class Employee:\n",
        "  \n",
        "  def __init__(self, first, last):\n",
        "    self.first = first \n",
        "    self.last = last\n",
        "  \n",
        "  @property # adding a decorator to the fullname too\n",
        "  def fullname(self):\n",
        "    return '{} {}'.format(self.first, self.last)\n",
        "\n",
        "  @property # by making this small change we can access the email like an attribute\n",
        "  def email(self):\n",
        "    return '{}.{}@company.com'.format(self.first, self.last)\n",
        "\n",
        "emp_1 = Employee('John', 'Smith') \n",
        "emp_1.first = 'Jim'\n",
        "\n",
        "print(emp_1.first)\n",
        "print(emp_1.email)\n",
        "print(emp_1.fullname)"
      ],
      "execution_count": 116,
      "outputs": [
        {
          "output_type": "stream",
          "text": [
            "Jim\n",
            "Jim.Smith@company.com\n",
            "Jim Smith\n"
          ],
          "name": "stdout"
        }
      ]
    },
    {
      "cell_type": "code",
      "metadata": {
        "colab": {
          "base_uri": "https://localhost:8080/",
          "height": 163
        },
        "id": "JMDBu5RJyP_t",
        "outputId": "ce938904-f797-44f5-8fa1-0671f08c12cd"
      },
      "source": [
        "emp_1.fullname = 'Patrycja Arcisz' # we set a new value, but we want the change to be included in email etc."
      ],
      "execution_count": 117,
      "outputs": [
        {
          "output_type": "error",
          "ename": "AttributeError",
          "evalue": "ignored",
          "traceback": [
            "\u001b[0;31m---------------------------------------------------------------------------\u001b[0m",
            "\u001b[0;31mAttributeError\u001b[0m                            Traceback (most recent call last)",
            "\u001b[0;32m<ipython-input-117-3c3e12b2a23c>\u001b[0m in \u001b[0;36m<module>\u001b[0;34m()\u001b[0m\n\u001b[0;32m----> 1\u001b[0;31m \u001b[0memp_1\u001b[0m\u001b[0;34m.\u001b[0m\u001b[0mfullname\u001b[0m \u001b[0;34m=\u001b[0m \u001b[0;34m'Patrycja Arcisz'\u001b[0m \u001b[0;31m# we set a new value, but we want the change to be included in email etc.\u001b[0m\u001b[0;34m\u001b[0m\u001b[0;34m\u001b[0m\u001b[0m\n\u001b[0m",
            "\u001b[0;31mAttributeError\u001b[0m: can't set attribute"
          ]
        }
      ]
    },
    {
      "cell_type": "markdown",
      "metadata": {
        "id": "lqy1ffrXyitH"
      },
      "source": [
        "it throws an error when fullname has only @property, in order to fix that, we need to use a setter (@property is a getter)"
      ]
    },
    {
      "cell_type": "code",
      "metadata": {
        "id": "OqpeavCbyZ16"
      },
      "source": [
        "class Employee:\n",
        "  \n",
        "  def __init__(self, first, last):\n",
        "    self.first = first \n",
        "    self.last = last\n",
        "  \n",
        "  @property\n",
        "  def fullname(self):\n",
        "    return '{} {}'.format(self.first, self.last)\n",
        "  \n",
        "  @fullname.setter\n",
        "  def fullname(self, name): # name is the value we want to set (like 'Patrycja Arcisz' above)\n",
        "    first, last = name.split(' ')\n",
        "    self.first = first\n",
        "    self.last = last\n",
        "\n",
        "  @property\n",
        "  def email(self):\n",
        "    return '{}.{}@company.com'.format(self.first, self.last)"
      ],
      "execution_count": 118,
      "outputs": []
    },
    {
      "cell_type": "code",
      "metadata": {
        "colab": {
          "base_uri": "https://localhost:8080/"
        },
        "id": "qbSD5mQnza3p",
        "outputId": "637a7f58-6fb0-46e3-90de-3d1514d5559e"
      },
      "source": [
        "emp_1 = Employee('John', 'Smith') \n",
        "\n",
        "emp_1.fullname = 'Patrycja Arcisz'\n",
        "\n",
        "print(emp_1.first)\n",
        "print(emp_1.email)\n",
        "print(emp_1.fullname)"
      ],
      "execution_count": 119,
      "outputs": [
        {
          "output_type": "stream",
          "text": [
            "Patrycja\n",
            "Patrycja.Arcisz@company.com\n",
            "Patrycja Arcisz\n"
          ],
          "name": "stdout"
        }
      ]
    },
    {
      "cell_type": "markdown",
      "metadata": {
        "id": "25iHw3F-zpUD"
      },
      "source": [
        "NOW IT DOESN'T THROW AN ERROR!! the setter set the new values"
      ]
    },
    {
      "cell_type": "code",
      "metadata": {
        "id": "wVNftkoKzn6b"
      },
      "source": [
        "class Employee:\n",
        "  \n",
        "  def __init__(self, first, last):\n",
        "    self.first = first \n",
        "    self.last = last\n",
        "  \n",
        "  @property\n",
        "  def fullname(self):\n",
        "    return '{} {}'.format(self.first, self.last)\n",
        "  \n",
        "  @fullname.setter\n",
        "  def fullname(self, name):\n",
        "    first, last = name.split(' ')\n",
        "    self.first = first\n",
        "    self.last = last\n",
        "  \n",
        "  @fullname.deleter # that's what's going to happen when we delete the name\n",
        "  def fullname(self):\n",
        "    print('Delete Name!') # we include it because we want to see the code do sth for the sake of this example\n",
        "    self.first = None\n",
        "    self.last = None\n",
        "\n",
        "  @property\n",
        "  def email(self):\n",
        "    return '{}.{}@company.com'.format(self.first, self.last)\n"
      ],
      "execution_count": 121,
      "outputs": []
    },
    {
      "cell_type": "code",
      "metadata": {
        "colab": {
          "base_uri": "https://localhost:8080/"
        },
        "id": "VPE4SkOc0Vmw",
        "outputId": "b55538b0-5291-4afb-e86c-29a23f723512"
      },
      "source": [
        "emp_1 = Employee('John', 'Smith') \n",
        "\n",
        "emp_1.fullname = 'Patrycja Arcisz'\n",
        "\n",
        "print(emp_1.first)\n",
        "print(emp_1.email)\n",
        "print(emp_1.fullname)\n",
        "\n",
        "del emp_1.fullname"
      ],
      "execution_count": 123,
      "outputs": [
        {
          "output_type": "stream",
          "text": [
            "Patrycja\n",
            "Patrycja.Arcisz@company.com\n",
            "Patrycja Arcisz\n",
            "Delete Name!\n"
          ],
          "name": "stdout"
        }
      ]
    }
  ]
}